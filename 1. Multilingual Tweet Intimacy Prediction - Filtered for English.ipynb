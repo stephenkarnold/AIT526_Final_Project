{
 "cells": [
  {
   "cell_type": "code",
   "execution_count": 83,
   "id": "661e6892",
   "metadata": {},
   "outputs": [],
   "source": [
    "import pandas as pd\n",
    "import numpy as np\n",
    "import nltk\n",
    "\n",
    "#Preprocessing\n",
    "from nltk.stem import WordNetLemmatizer\n",
    "from nltk.tokenize import word_tokenize\n",
    "from sklearn.model_selection import train_test_split\n",
    "from sklearn.feature_extraction.text import TfidfVectorizer\n",
    "\n",
    "#Models from sklearn\n",
    "from sklearn import linear_model\n",
    "from sklearn import svm\n",
    "from sklearn import tree\n",
    "from sklearn.ensemble import RandomForestRegressor\n",
    "\n",
    "#Evaluation metrics\n",
    "from sklearn.metrics import mean_squared_error\n",
    "from scipy.stats import pearsonr\n",
    "from sklearn.model_selection import cross_val_score"
   ]
  },
  {
   "cell_type": "markdown",
   "id": "7e3f6f2a",
   "metadata": {},
   "source": [
    "#### Data read-in"
   ]
  },
  {
   "cell_type": "code",
   "execution_count": 84,
   "id": "b439a25b",
   "metadata": {
    "scrolled": true
   },
   "outputs": [
    {
     "name": "stdout",
     "output_type": "stream",
     "text": [
      "                                                   text  label language\n",
      "0     wearing a fake engagement ring so guys won’t a...    1.8  English\n",
      "1                                  Bees vs. Wasps. http    1.0  English\n",
      "2                  Here is a nice equation: 0+0-0-0+0=0    1.0  English\n",
      "3                  @user @user Enjoy each new day!😊🇨🇦🐞🐭    1.6  English\n",
      "4     I can be having a perfectly good day then I th...    1.6  English\n",
      "...                                                 ...    ...      ...\n",
      "9486  若被確認為「國際關注公共衛生緊急事件」， 世衛會發布一系列包括確診、隔離和治療的詳細計畫， ...    1.0  Chinese\n",
      "9487                                @user 是嗎？ 可能我沒有注意到吧    2.0  Chinese\n",
      "9488                                 @user @user 你剃过毛毛吗    3.8  Chinese\n",
      "9489                                      @user 她没说是捐吧？    1.8  Chinese\n",
      "9490  通报来了 真的要消停一会了 视频不要私信要啦 就当2w粉的福利提前放出来吧 有风险勿模仿 感...    1.6  Chinese\n",
      "\n",
      "[9491 rows x 3 columns]\n"
     ]
    }
   ],
   "source": [
    "data_all = pd.read_csv('train.csv')\n",
    "print(data_all)"
   ]
  },
  {
   "cell_type": "markdown",
   "id": "abcb56e6",
   "metadata": {},
   "source": [
    "#### Filtering for english"
   ]
  },
  {
   "cell_type": "code",
   "execution_count": 85,
   "id": "ebff88a9",
   "metadata": {},
   "outputs": [
    {
     "data": {
      "text/html": [
       "<div>\n",
       "<style scoped>\n",
       "    .dataframe tbody tr th:only-of-type {\n",
       "        vertical-align: middle;\n",
       "    }\n",
       "\n",
       "    .dataframe tbody tr th {\n",
       "        vertical-align: top;\n",
       "    }\n",
       "\n",
       "    .dataframe thead th {\n",
       "        text-align: right;\n",
       "    }\n",
       "</style>\n",
       "<table border=\"1\" class=\"dataframe\">\n",
       "  <thead>\n",
       "    <tr style=\"text-align: right;\">\n",
       "      <th></th>\n",
       "      <th>text</th>\n",
       "      <th>label</th>\n",
       "      <th>language</th>\n",
       "    </tr>\n",
       "  </thead>\n",
       "  <tbody>\n",
       "    <tr>\n",
       "      <th>0</th>\n",
       "      <td>wearing a fake engagement ring so guys won’t a...</td>\n",
       "      <td>1.8</td>\n",
       "      <td>English</td>\n",
       "    </tr>\n",
       "    <tr>\n",
       "      <th>1</th>\n",
       "      <td>Bees vs. Wasps. http</td>\n",
       "      <td>1.0</td>\n",
       "      <td>English</td>\n",
       "    </tr>\n",
       "    <tr>\n",
       "      <th>2</th>\n",
       "      <td>Here is a nice equation: 0+0-0-0+0=0</td>\n",
       "      <td>1.0</td>\n",
       "      <td>English</td>\n",
       "    </tr>\n",
       "    <tr>\n",
       "      <th>3</th>\n",
       "      <td>@user @user Enjoy each new day!😊🇨🇦🐞🐭</td>\n",
       "      <td>1.6</td>\n",
       "      <td>English</td>\n",
       "    </tr>\n",
       "    <tr>\n",
       "      <th>4</th>\n",
       "      <td>I can be having a perfectly good day then I th...</td>\n",
       "      <td>1.6</td>\n",
       "      <td>English</td>\n",
       "    </tr>\n",
       "    <tr>\n",
       "      <th>...</th>\n",
       "      <td>...</td>\n",
       "      <td>...</td>\n",
       "      <td>...</td>\n",
       "    </tr>\n",
       "    <tr>\n",
       "      <th>1582</th>\n",
       "      <td>PSA!!! Even though I’m busy 99.99999% of the t...</td>\n",
       "      <td>2.2</td>\n",
       "      <td>English</td>\n",
       "    </tr>\n",
       "    <tr>\n",
       "      <th>1583</th>\n",
       "      <td>@user @OtterBox Isnt that the only reason we b...</td>\n",
       "      <td>1.6</td>\n",
       "      <td>English</td>\n",
       "    </tr>\n",
       "    <tr>\n",
       "      <th>1584</th>\n",
       "      <td>#NetajiSubhasChandraBose The ART The ARTIST http</td>\n",
       "      <td>1.0</td>\n",
       "      <td>English</td>\n",
       "    </tr>\n",
       "    <tr>\n",
       "      <th>1585</th>\n",
       "      <td>Nothing compares with being with someone who a...</td>\n",
       "      <td>3.6</td>\n",
       "      <td>English</td>\n",
       "    </tr>\n",
       "    <tr>\n",
       "      <th>1586</th>\n",
       "      <td>@user shit.. I didn't follow you either.... *c...</td>\n",
       "      <td>2.6</td>\n",
       "      <td>English</td>\n",
       "    </tr>\n",
       "  </tbody>\n",
       "</table>\n",
       "<p>1587 rows × 3 columns</p>\n",
       "</div>"
      ],
      "text/plain": [
       "                                                   text  label language\n",
       "0     wearing a fake engagement ring so guys won’t a...    1.8  English\n",
       "1                                  Bees vs. Wasps. http    1.0  English\n",
       "2                  Here is a nice equation: 0+0-0-0+0=0    1.0  English\n",
       "3                  @user @user Enjoy each new day!😊🇨🇦🐞🐭    1.6  English\n",
       "4     I can be having a perfectly good day then I th...    1.6  English\n",
       "...                                                 ...    ...      ...\n",
       "1582  PSA!!! Even though I’m busy 99.99999% of the t...    2.2  English\n",
       "1583  @user @OtterBox Isnt that the only reason we b...    1.6  English\n",
       "1584   #NetajiSubhasChandraBose The ART The ARTIST http    1.0  English\n",
       "1585  Nothing compares with being with someone who a...    3.6  English\n",
       "1586  @user shit.. I didn't follow you either.... *c...    2.6  English\n",
       "\n",
       "[1587 rows x 3 columns]"
      ]
     },
     "execution_count": 85,
     "metadata": {},
     "output_type": "execute_result"
    }
   ],
   "source": [
    "data = data_all[data_all['language'] == 'English'] \n",
    "data"
   ]
  },
  {
   "cell_type": "markdown",
   "id": "602b496a",
   "metadata": {},
   "source": [
    "#### Cleaning the data"
   ]
  },
  {
   "cell_type": "code",
   "execution_count": 86,
   "id": "530a02c9",
   "metadata": {},
   "outputs": [],
   "source": [
    "import re\n",
    "\n",
    "def clean(text):\n",
    "    \n",
    "    text = re.sub('@user', '', text)\n",
    "    text = re.sub('http', '', text)\n",
    "    text = re.sub('@[\\w]+', '', text)\n",
    "    text = text.strip()\n",
    "    return text\n",
    "\n",
    "#data['text'] = data['text'].apply(clean)\n",
    "\n",
    "#data.head()"
   ]
  },
  {
   "cell_type": "markdown",
   "id": "f4ee3b60",
   "metadata": {},
   "source": [
    "#### Tokenizing and Lemmatization"
   ]
  },
  {
   "cell_type": "code",
   "execution_count": 87,
   "id": "7bf0e5a4",
   "metadata": {},
   "outputs": [
    {
     "name": "stderr",
     "output_type": "stream",
     "text": [
      "[nltk_data] Downloading package punkt to\n",
      "[nltk_data]     /Users/stephenarnoldkappala/nltk_data...\n",
      "[nltk_data]   Package punkt is already up-to-date!\n",
      "[nltk_data] Downloading package wordnet to\n",
      "[nltk_data]     /Users/stephenarnoldkappala/nltk_data...\n",
      "[nltk_data]   Package wordnet is already up-to-date!\n",
      "/var/folders/3m/pm_n_clj2636ntdmmv6lgqq40000gn/T/ipykernel_32120/1965705353.py:11: SettingWithCopyWarning: \n",
      "A value is trying to be set on a copy of a slice from a DataFrame.\n",
      "Try using .loc[row_indexer,col_indexer] = value instead\n",
      "\n",
      "See the caveats in the documentation: https://pandas.pydata.org/pandas-docs/stable/user_guide/indexing.html#returning-a-view-versus-a-copy\n",
      "  data['text'] = data['text'].apply(tokenize_and_lemmatize)\n"
     ]
    }
   ],
   "source": [
    "nltk.download('punkt')\n",
    "nltk.download('wordnet')\n",
    "\n",
    "\n",
    "def tokenize_and_lemmatize(text):\n",
    "    words = word_tokenize(text)\n",
    "    lemmatizer = WordNetLemmatizer()\n",
    "    lemmatized_words = [lemmatizer.lemmatize(word) for word in words]\n",
    "    return ' '.join(lemmatized_words)\n",
    "\n",
    "data['text'] = data['text'].apply(tokenize_and_lemmatize)"
   ]
  },
  {
   "cell_type": "markdown",
   "id": "a3686e65",
   "metadata": {},
   "source": [
    "#### Removing Stopwords"
   ]
  },
  {
   "cell_type": "code",
   "execution_count": 88,
   "id": "5c4f383d",
   "metadata": {},
   "outputs": [
    {
     "name": "stdout",
     "output_type": "stream",
     "text": [
      "                                                text  label language\n",
      "0  wearing a fake engagement ring so guy won ’ t ...    1.8  English\n",
      "1                              Bees vs. Wasps . http    1.0  English\n",
      "2              Here is a nice equation : 0+0-0-0+0=0    1.0  English\n",
      "3           @ user @ user Enjoy each new day ! 😊🇨🇦🐞🐭    1.6  English\n",
      "4  I can be having a perfectly good day then I th...    1.6  English\n"
     ]
    },
    {
     "name": "stderr",
     "output_type": "stream",
     "text": [
      "[nltk_data] Downloading package stopwords to\n",
      "[nltk_data]     /Users/stephenarnoldkappala/nltk_data...\n",
      "[nltk_data]   Package stopwords is already up-to-date!\n"
     ]
    }
   ],
   "source": [
    "from nltk.corpus import stopwords\n",
    "\n",
    "nltk.download('stopwords')\n",
    "\n",
    "stop_words = set(stopwords.words('english'))\n",
    "\n",
    "def remove_stopwords(text):\n",
    "    words = word_tokenize(text)\n",
    "    filtered_words = [word for word in words if word.lower() not in stop_words]\n",
    "    return ' '.join(filtered_words)\n",
    "\n",
    "\n",
    "#data['text'] = data['text'].apply(remove_stopwords)\n",
    "\n",
    "\n",
    "print(data.head())"
   ]
  },
  {
   "cell_type": "markdown",
   "id": "359d26ef",
   "metadata": {},
   "source": [
    "#### Feature extraction using TF-IDF"
   ]
  },
  {
   "cell_type": "code",
   "execution_count": 89,
   "id": "0bc139fa",
   "metadata": {},
   "outputs": [],
   "source": [
    "tfidf_vectorizer = TfidfVectorizer()\n",
    "X = tfidf_vectorizer.fit_transform(data['text'])\n",
    "y = data['label']"
   ]
  },
  {
   "cell_type": "markdown",
   "id": "90bd1d70",
   "metadata": {},
   "source": [
    "#### Train and Test Split"
   ]
  },
  {
   "cell_type": "code",
   "execution_count": 90,
   "id": "e03498bd",
   "metadata": {},
   "outputs": [],
   "source": [
    "X_train, X_test, y_train, y_test = train_test_split(X, y, test_size=0.2, random_state=42)"
   ]
  },
  {
   "cell_type": "markdown",
   "id": "fd6f1966",
   "metadata": {},
   "source": [
    "#### Creating a function to predict and evaluate the prediction"
   ]
  },
  {
   "cell_type": "code",
   "execution_count": 91,
   "id": "fc6f51c8",
   "metadata": {},
   "outputs": [],
   "source": [
    "def models(mod, X_tr, y_tr, X_ts, y_ts):\n",
    "    model = mod\n",
    "    model.fit(X_tr, y_tr)\n",
    "    y_pred = model.predict(X_ts)\n",
    "    \n",
    "    pearson_r, _ = pearsonr(y_pred, y_ts)\n",
    "    print(\"Pearson's r for\", model, \"is: \" , pearson_r)\n",
    "    \n",
    "    def calculate_pearson(mod, X_ts, y_ts):\n",
    "        y_pred_1 = mod.predict(X_ts)\n",
    "        pearson, _ = pearsonr(y_pred_1, y_ts)\n",
    "        return pearson\n",
    "    \n",
    "    pearson_cv = cross_val_score(model, X_ts, y_ts, scoring=calculate_pearson, cv=5)\n",
    "    print(\"Pearson's r for\", model, \"after cross validation is: \" , pearson_cv)\n",
    "    \n",
    "    mse = mean_squared_error(y_pred, y_ts)\n",
    "    print(\"Mean Square Error for\", model, \"is: \" , mse)\n",
    "      \n",
    "    mse_cv = -cross_val_score(model, X_ts, y_ts, scoring='neg_mean_squared_error', cv=5)\n",
    "    print(\"Mean Square Error for\", model, \"after cross validation is: \" , mse_cv)\n",
    "    \n",
    "    return pearson_r, mse, mse_cv"
   ]
  },
  {
   "cell_type": "markdown",
   "id": "41358717",
   "metadata": {},
   "source": [
    "#### Linear Regression"
   ]
  },
  {
   "cell_type": "code",
   "execution_count": 92,
   "id": "1f3acef2",
   "metadata": {
    "scrolled": true
   },
   "outputs": [
    {
     "name": "stdout",
     "output_type": "stream",
     "text": [
      "Pearson's r for LinearRegression() is:  0.48748073395660296\n",
      "Pearson's r for LinearRegression() after cross validation is:  [0.40540163 0.36372856 0.53897348 0.48927833 0.38317135]\n",
      "Mean Square Error for LinearRegression() is:  0.6537288560185293\n",
      "Mean Square Error for LinearRegression() after cross validation is:  [0.45532563 0.51262575 0.68307686 0.6286552  0.85871471]\n"
     ]
    }
   ],
   "source": [
    "lr = models(linear_model.LinearRegression(), X_train, y_train, X_test, y_test)"
   ]
  },
  {
   "cell_type": "markdown",
   "id": "1719b305",
   "metadata": {},
   "source": [
    "#### Service Vector Regression"
   ]
  },
  {
   "cell_type": "code",
   "execution_count": 93,
   "id": "d78aa19b",
   "metadata": {
    "scrolled": true
   },
   "outputs": [
    {
     "name": "stdout",
     "output_type": "stream",
     "text": [
      "Pearson's r for SVR() is:  0.5589728615357136\n",
      "Pearson's r for SVR() after cross validation is:  [0.34838581 0.35186473 0.51248508 0.43739434 0.45564716]\n",
      "Mean Square Error for SVR() is:  0.5462805775352324\n",
      "Mean Square Error for SVR() after cross validation is:  [0.47848233 0.48525128 0.86575966 0.6355661  0.93772615]\n"
     ]
    }
   ],
   "source": [
    "svr = models(svm.SVR(), X_train, y_train, X_test, y_test)"
   ]
  },
  {
   "cell_type": "markdown",
   "id": "8acb5013",
   "metadata": {},
   "source": [
    "#### Decision Tree Regressor"
   ]
  },
  {
   "cell_type": "code",
   "execution_count": 94,
   "id": "0b86d8c0",
   "metadata": {},
   "outputs": [
    {
     "name": "stdout",
     "output_type": "stream",
     "text": [
      "Pearson's r for DecisionTreeRegressor() is:  0.33661627975044517\n",
      "Pearson's r for DecisionTreeRegressor() after cross validation is:  [0.09223411 0.23876046 0.26439235 0.34605805 0.4894922 ]\n",
      "Mean Square Error for DecisionTreeRegressor() is:  0.9564150943396228\n",
      "Mean Square Error for DecisionTreeRegressor() after cross validation is:  [1.15681858 0.99013889 1.21187934 1.18948854 0.96849206]\n"
     ]
    }
   ],
   "source": [
    "dt = models(tree.DecisionTreeRegressor(), X_train, y_train, X_test, y_test)"
   ]
  },
  {
   "cell_type": "markdown",
   "id": "d51342a6",
   "metadata": {},
   "source": [
    "#### Ridge Regression"
   ]
  },
  {
   "cell_type": "code",
   "execution_count": 95,
   "id": "c0af13bb",
   "metadata": {},
   "outputs": [
    {
     "name": "stdout",
     "output_type": "stream",
     "text": [
      "Pearson's r for Ridge(alpha=0.9) is:  0.5535602390519943\n",
      "Pearson's r for Ridge(alpha=0.9) after cross validation is:  [0.43555899 0.36673971 0.54639142 0.50302281 0.45964583]\n",
      "Mean Square Error for Ridge(alpha=0.9) is:  0.5249331670192434\n",
      "Mean Square Error for Ridge(alpha=0.9) after cross validation is:  [0.43306106 0.50136195 0.74043324 0.57785217 0.83841072]\n"
     ]
    }
   ],
   "source": [
    "ridge = models(linear_model.Ridge(alpha=0.9), X_train, y_train, X_test, y_test)"
   ]
  },
  {
   "cell_type": "markdown",
   "id": "945da941",
   "metadata": {},
   "source": [
    "#### Random Forest Regressor"
   ]
  },
  {
   "cell_type": "code",
   "execution_count": 96,
   "id": "e52ae765",
   "metadata": {},
   "outputs": [
    {
     "name": "stdout",
     "output_type": "stream",
     "text": [
      "Pearson's r for RandomForestRegressor(random_state=42) is:  0.4722185276469098\n",
      "Pearson's r for RandomForestRegressor(random_state=42) after cross validation is:  [0.29646177 0.31578047 0.40461505 0.48231666 0.59123926]\n",
      "Mean Square Error for RandomForestRegressor(random_state=42) is:  0.605313924970519\n",
      "Mean Square Error for RandomForestRegressor(random_state=42) after cross validation is:  [0.5360217  0.53534536 0.88692599 0.57838013 0.8676906 ]\n"
     ]
    }
   ],
   "source": [
    "rf = models(RandomForestRegressor(random_state=42), X_train, y_train, X_test, y_test)"
   ]
  }
 ],
 "metadata": {
  "kernelspec": {
   "display_name": "Python 3 (ipykernel)",
   "language": "python",
   "name": "python3"
  },
  "language_info": {
   "codemirror_mode": {
    "name": "ipython",
    "version": 3
   },
   "file_extension": ".py",
   "mimetype": "text/x-python",
   "name": "python",
   "nbconvert_exporter": "python",
   "pygments_lexer": "ipython3",
   "version": "3.9.12"
  }
 },
 "nbformat": 4,
 "nbformat_minor": 5
}
