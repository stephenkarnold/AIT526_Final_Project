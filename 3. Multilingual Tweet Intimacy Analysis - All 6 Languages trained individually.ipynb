{
 "cells": [
  {
   "cell_type": "code",
   "execution_count": 1,
   "id": "661e6892",
   "metadata": {},
   "outputs": [
    {
     "name": "stderr",
     "output_type": "stream",
     "text": [
      "/Users/stephenarnoldkappala/opt/anaconda3/lib/python3.9/site-packages/scipy/__init__.py:146: UserWarning: A NumPy version >=1.16.5 and <1.23.0 is required for this version of SciPy (detected version 1.26.1\n",
      "  warnings.warn(f\"A NumPy version >={np_minversion} and <{np_maxversion}\"\n"
     ]
    }
   ],
   "source": [
    "import pandas as pd\n",
    "import numpy as np\n",
    "import nltk\n",
    "\n",
    "#Preprocessing\n",
    "from nltk.stem import WordNetLemmatizer\n",
    "from nltk.tokenize import word_tokenize\n",
    "from sklearn.model_selection import train_test_split\n",
    "from sklearn.feature_extraction.text import TfidfVectorizer\n",
    "\n",
    "#Models from sklearn\n",
    "from sklearn import linear_model\n",
    "from sklearn import svm\n",
    "from sklearn import tree\n",
    "from sklearn.ensemble import RandomForestRegressor\n",
    "\n",
    "#Evaluation metrics\n",
    "from sklearn.metrics import mean_squared_error\n",
    "from scipy.stats import pearsonr\n",
    "from sklearn.model_selection import cross_val_score"
   ]
  },
  {
   "cell_type": "markdown",
   "id": "7e3f6f2a",
   "metadata": {},
   "source": [
    "#### Data read-in"
   ]
  },
  {
   "cell_type": "code",
   "execution_count": 2,
   "id": "b439a25b",
   "metadata": {
    "scrolled": true
   },
   "outputs": [
    {
     "name": "stdout",
     "output_type": "stream",
     "text": [
      "                                                   text  label language\n",
      "0     wearing a fake engagement ring so guys won’t a...    1.8  English\n",
      "1                                  Bees vs. Wasps. http    1.0  English\n",
      "2                  Here is a nice equation: 0+0-0-0+0=0    1.0  English\n",
      "3                  @user @user Enjoy each new day!😊🇨🇦🐞🐭    1.6  English\n",
      "4     I can be having a perfectly good day then I th...    1.6  English\n",
      "...                                                 ...    ...      ...\n",
      "9486  若被確認為「國際關注公共衛生緊急事件」， 世衛會發布一系列包括確診、隔離和治療的詳細計畫， ...    1.0  Chinese\n",
      "9487                                @user 是嗎？ 可能我沒有注意到吧    2.0  Chinese\n",
      "9488                                 @user @user 你剃过毛毛吗    3.8  Chinese\n",
      "9489                                      @user 她没说是捐吧？    1.8  Chinese\n",
      "9490  通报来了 真的要消停一会了 视频不要私信要啦 就当2w粉的福利提前放出来吧 有风险勿模仿 感...    1.6  Chinese\n",
      "\n",
      "[9491 rows x 3 columns]\n"
     ]
    }
   ],
   "source": [
    "data_all = pd.read_csv('train.csv')\n",
    "print(data_all)"
   ]
  },
  {
   "cell_type": "markdown",
   "id": "abcb56e6",
   "metadata": {},
   "source": [
    "#### Filtering for english"
   ]
  },
  {
   "cell_type": "code",
   "execution_count": 3,
   "id": "ebff88a9",
   "metadata": {},
   "outputs": [
    {
     "data": {
      "text/html": [
       "<div>\n",
       "<style scoped>\n",
       "    .dataframe tbody tr th:only-of-type {\n",
       "        vertical-align: middle;\n",
       "    }\n",
       "\n",
       "    .dataframe tbody tr th {\n",
       "        vertical-align: top;\n",
       "    }\n",
       "\n",
       "    .dataframe thead th {\n",
       "        text-align: right;\n",
       "    }\n",
       "</style>\n",
       "<table border=\"1\" class=\"dataframe\">\n",
       "  <thead>\n",
       "    <tr style=\"text-align: right;\">\n",
       "      <th></th>\n",
       "      <th>text</th>\n",
       "      <th>label</th>\n",
       "      <th>language</th>\n",
       "    </tr>\n",
       "  </thead>\n",
       "  <tbody>\n",
       "    <tr>\n",
       "      <th>0</th>\n",
       "      <td>wearing a fake engagement ring so guys won’t a...</td>\n",
       "      <td>1.8</td>\n",
       "      <td>English</td>\n",
       "    </tr>\n",
       "    <tr>\n",
       "      <th>1</th>\n",
       "      <td>Bees vs. Wasps. http</td>\n",
       "      <td>1.0</td>\n",
       "      <td>English</td>\n",
       "    </tr>\n",
       "    <tr>\n",
       "      <th>2</th>\n",
       "      <td>Here is a nice equation: 0+0-0-0+0=0</td>\n",
       "      <td>1.0</td>\n",
       "      <td>English</td>\n",
       "    </tr>\n",
       "    <tr>\n",
       "      <th>3</th>\n",
       "      <td>@user @user Enjoy each new day!😊🇨🇦🐞🐭</td>\n",
       "      <td>1.6</td>\n",
       "      <td>English</td>\n",
       "    </tr>\n",
       "    <tr>\n",
       "      <th>4</th>\n",
       "      <td>I can be having a perfectly good day then I th...</td>\n",
       "      <td>1.6</td>\n",
       "      <td>English</td>\n",
       "    </tr>\n",
       "    <tr>\n",
       "      <th>...</th>\n",
       "      <td>...</td>\n",
       "      <td>...</td>\n",
       "      <td>...</td>\n",
       "    </tr>\n",
       "    <tr>\n",
       "      <th>1582</th>\n",
       "      <td>PSA!!! Even though I’m busy 99.99999% of the t...</td>\n",
       "      <td>2.2</td>\n",
       "      <td>English</td>\n",
       "    </tr>\n",
       "    <tr>\n",
       "      <th>1583</th>\n",
       "      <td>@user @OtterBox Isnt that the only reason we b...</td>\n",
       "      <td>1.6</td>\n",
       "      <td>English</td>\n",
       "    </tr>\n",
       "    <tr>\n",
       "      <th>1584</th>\n",
       "      <td>#NetajiSubhasChandraBose The ART The ARTIST http</td>\n",
       "      <td>1.0</td>\n",
       "      <td>English</td>\n",
       "    </tr>\n",
       "    <tr>\n",
       "      <th>1585</th>\n",
       "      <td>Nothing compares with being with someone who a...</td>\n",
       "      <td>3.6</td>\n",
       "      <td>English</td>\n",
       "    </tr>\n",
       "    <tr>\n",
       "      <th>1586</th>\n",
       "      <td>@user shit.. I didn't follow you either.... *c...</td>\n",
       "      <td>2.6</td>\n",
       "      <td>English</td>\n",
       "    </tr>\n",
       "  </tbody>\n",
       "</table>\n",
       "<p>1587 rows × 3 columns</p>\n",
       "</div>"
      ],
      "text/plain": [
       "                                                   text  label language\n",
       "0     wearing a fake engagement ring so guys won’t a...    1.8  English\n",
       "1                                  Bees vs. Wasps. http    1.0  English\n",
       "2                  Here is a nice equation: 0+0-0-0+0=0    1.0  English\n",
       "3                  @user @user Enjoy each new day!😊🇨🇦🐞🐭    1.6  English\n",
       "4     I can be having a perfectly good day then I th...    1.6  English\n",
       "...                                                 ...    ...      ...\n",
       "1582  PSA!!! Even though I’m busy 99.99999% of the t...    2.2  English\n",
       "1583  @user @OtterBox Isnt that the only reason we b...    1.6  English\n",
       "1584   #NetajiSubhasChandraBose The ART The ARTIST http    1.0  English\n",
       "1585  Nothing compares with being with someone who a...    3.6  English\n",
       "1586  @user shit.. I didn't follow you either.... *c...    2.6  English\n",
       "\n",
       "[1587 rows x 3 columns]"
      ]
     },
     "execution_count": 3,
     "metadata": {},
     "output_type": "execute_result"
    }
   ],
   "source": [
    "data = data_all[data_all['language'] == 'English'] \n",
    "data"
   ]
  },
  {
   "cell_type": "markdown",
   "id": "602b496a",
   "metadata": {},
   "source": [
    "#### Cleaning the data"
   ]
  },
  {
   "cell_type": "code",
   "execution_count": 4,
   "id": "530a02c9",
   "metadata": {},
   "outputs": [],
   "source": [
    "import re\n",
    "\n",
    "def clean(text):\n",
    "    \n",
    "    text = re.sub('@user', '', text)\n",
    "    text = re.sub('http', '', text)\n",
    "    text = re.sub('@[\\w]+', '', text)\n",
    "    text = text.strip()\n",
    "    return text\n",
    "\n",
    "#data['text'] = data['text'].apply(clean)\n",
    "\n",
    "#data.head()"
   ]
  },
  {
   "cell_type": "markdown",
   "id": "f4ee3b60",
   "metadata": {},
   "source": [
    "#### Tokenizing and Lemmatization"
   ]
  },
  {
   "cell_type": "code",
   "execution_count": 5,
   "id": "7bf0e5a4",
   "metadata": {},
   "outputs": [
    {
     "name": "stderr",
     "output_type": "stream",
     "text": [
      "[nltk_data] Downloading package punkt to\n",
      "[nltk_data]     /Users/stephenarnoldkappala/nltk_data...\n",
      "[nltk_data]   Package punkt is already up-to-date!\n",
      "[nltk_data] Downloading package wordnet to\n",
      "[nltk_data]     /Users/stephenarnoldkappala/nltk_data...\n",
      "[nltk_data]   Package wordnet is already up-to-date!\n",
      "/var/folders/3m/pm_n_clj2636ntdmmv6lgqq40000gn/T/ipykernel_11796/1965705353.py:11: SettingWithCopyWarning: \n",
      "A value is trying to be set on a copy of a slice from a DataFrame.\n",
      "Try using .loc[row_indexer,col_indexer] = value instead\n",
      "\n",
      "See the caveats in the documentation: https://pandas.pydata.org/pandas-docs/stable/user_guide/indexing.html#returning-a-view-versus-a-copy\n",
      "  data['text'] = data['text'].apply(tokenize_and_lemmatize)\n"
     ]
    }
   ],
   "source": [
    "nltk.download('punkt')\n",
    "nltk.download('wordnet')\n",
    "\n",
    "\n",
    "def tokenize_and_lemmatize(text):\n",
    "    words = word_tokenize(text)\n",
    "    lemmatizer = WordNetLemmatizer()\n",
    "    lemmatized_words = [lemmatizer.lemmatize(word) for word in words]\n",
    "    return ' '.join(lemmatized_words)\n",
    "\n",
    "data['text'] = data['text'].apply(tokenize_and_lemmatize)"
   ]
  },
  {
   "cell_type": "markdown",
   "id": "58bea7c7",
   "metadata": {},
   "source": [
    "#### Creating datasets by language"
   ]
  },
  {
   "cell_type": "code",
   "execution_count": 6,
   "id": "236b0e89",
   "metadata": {},
   "outputs": [],
   "source": [
    "english = data_all[data_all['language'] == 'English'] \n",
    "chinese = data_all[data_all['language'] == 'Chinese'] \n",
    "french = data_all[data_all['language'] == 'French'] \n",
    "italian = data_all[data_all['language'] == 'Italian'] \n",
    "portuguese = data_all[data_all['language'] == 'Portuguese'] \n",
    "spanish = data_all[data_all['language'] == 'Spanish'] "
   ]
  },
  {
   "cell_type": "markdown",
   "id": "a3686e65",
   "metadata": {},
   "source": [
    "#### Removing Stopwords"
   ]
  },
  {
   "cell_type": "code",
   "execution_count": 7,
   "id": "5c4f383d",
   "metadata": {},
   "outputs": [
    {
     "name": "stderr",
     "output_type": "stream",
     "text": [
      "[nltk_data] Downloading package stopwords to\n",
      "[nltk_data]     /Users/stephenarnoldkappala/nltk_data...\n",
      "[nltk_data]   Package stopwords is already up-to-date!\n",
      "/var/folders/3m/pm_n_clj2636ntdmmv6lgqq40000gn/T/ipykernel_11796/3094923391.py:21: SettingWithCopyWarning: \n",
      "A value is trying to be set on a copy of a slice from a DataFrame.\n",
      "Try using .loc[row_indexer,col_indexer] = value instead\n",
      "\n",
      "See the caveats in the documentation: https://pandas.pydata.org/pandas-docs/stable/user_guide/indexing.html#returning-a-view-versus-a-copy\n",
      "  english['text'] = english['text'].apply(remove_stopwords_english)\n",
      "/var/folders/3m/pm_n_clj2636ntdmmv6lgqq40000gn/T/ipykernel_11796/3094923391.py:31: SettingWithCopyWarning: \n",
      "A value is trying to be set on a copy of a slice from a DataFrame.\n",
      "Try using .loc[row_indexer,col_indexer] = value instead\n",
      "\n",
      "See the caveats in the documentation: https://pandas.pydata.org/pandas-docs/stable/user_guide/indexing.html#returning-a-view-versus-a-copy\n",
      "  chinese['text'] = chinese['text'].apply(remove_stopwords_chinese)\n",
      "/var/folders/3m/pm_n_clj2636ntdmmv6lgqq40000gn/T/ipykernel_11796/3094923391.py:41: SettingWithCopyWarning: \n",
      "A value is trying to be set on a copy of a slice from a DataFrame.\n",
      "Try using .loc[row_indexer,col_indexer] = value instead\n",
      "\n",
      "See the caveats in the documentation: https://pandas.pydata.org/pandas-docs/stable/user_guide/indexing.html#returning-a-view-versus-a-copy\n",
      "  french['text'] = french['text'].apply(remove_stopwords_french)\n",
      "/var/folders/3m/pm_n_clj2636ntdmmv6lgqq40000gn/T/ipykernel_11796/3094923391.py:51: SettingWithCopyWarning: \n",
      "A value is trying to be set on a copy of a slice from a DataFrame.\n",
      "Try using .loc[row_indexer,col_indexer] = value instead\n",
      "\n",
      "See the caveats in the documentation: https://pandas.pydata.org/pandas-docs/stable/user_guide/indexing.html#returning-a-view-versus-a-copy\n",
      "  italian['text'] = italian['text'].apply(remove_stopwords_italian)\n",
      "/var/folders/3m/pm_n_clj2636ntdmmv6lgqq40000gn/T/ipykernel_11796/3094923391.py:61: SettingWithCopyWarning: \n",
      "A value is trying to be set on a copy of a slice from a DataFrame.\n",
      "Try using .loc[row_indexer,col_indexer] = value instead\n",
      "\n",
      "See the caveats in the documentation: https://pandas.pydata.org/pandas-docs/stable/user_guide/indexing.html#returning-a-view-versus-a-copy\n",
      "  portuguese['text'] = portuguese['text'].apply(remove_stopwords_portuguese)\n",
      "/var/folders/3m/pm_n_clj2636ntdmmv6lgqq40000gn/T/ipykernel_11796/3094923391.py:71: SettingWithCopyWarning: \n",
      "A value is trying to be set on a copy of a slice from a DataFrame.\n",
      "Try using .loc[row_indexer,col_indexer] = value instead\n",
      "\n",
      "See the caveats in the documentation: https://pandas.pydata.org/pandas-docs/stable/user_guide/indexing.html#returning-a-view-versus-a-copy\n",
      "  spanish['text'] = spanish['text'].apply(remove_stopwords_spanish)\n"
     ]
    }
   ],
   "source": [
    "from nltk.corpus import stopwords\n",
    "\n",
    "# Download NLTK stop words\n",
    "nltk.download('stopwords')\n",
    "\n",
    "stop_words_english = set(stopwords.words('english'))\n",
    "stop_words_chinese = set(stopwords.words('chinese'))\n",
    "stop_words_french = set(stopwords.words('french'))\n",
    "stop_words_italian = set(stopwords.words('italian'))\n",
    "stop_words_portuguese = set(stopwords.words('portuguese'))\n",
    "stop_words_spanish = set(stopwords.words('spanish'))\n",
    "\n",
    "\n",
    "# Function to remove stop words for english\n",
    "def remove_stopwords_english(text):\n",
    "    \n",
    "    words = word_tokenize(text)\n",
    "    filtered_words = [word for word in words if word.lower() not in stop_words_english]\n",
    "    return ' '.join(filtered_words)\n",
    "\n",
    "english['text'] = english['text'].apply(remove_stopwords_english)\n",
    "\n",
    "\n",
    "# Function to remove stop words for chinese\n",
    "def remove_stopwords_chinese(text):\n",
    "    \n",
    "    words = word_tokenize(text)\n",
    "    filtered_words = [word for word in words if word.lower() not in stop_words_chinese]\n",
    "    return ' '.join(filtered_words)\n",
    "\n",
    "chinese['text'] = chinese['text'].apply(remove_stopwords_chinese)\n",
    "\n",
    "\n",
    "# Function to remove stop words for french\n",
    "def remove_stopwords_french(text):\n",
    "    \n",
    "    words = word_tokenize(text)\n",
    "    filtered_words = [word for word in words if word.lower() not in stop_words_french]\n",
    "    return ' '.join(filtered_words)\n",
    "\n",
    "french['text'] = french['text'].apply(remove_stopwords_french)\n",
    "\n",
    "\n",
    "# Function to remove stop words for italian\n",
    "def remove_stopwords_italian(text):\n",
    "    \n",
    "    words = word_tokenize(text)\n",
    "    filtered_words = [word for word in words if word.lower() not in stop_words_italian]\n",
    "    return ' '.join(filtered_words)\n",
    "\n",
    "italian['text'] = italian['text'].apply(remove_stopwords_italian)\n",
    "\n",
    "\n",
    "# Function to remove stop words for portuguese\n",
    "def remove_stopwords_portuguese(text):\n",
    "    \n",
    "    words = word_tokenize(text)\n",
    "    filtered_words = [word for word in words if word.lower() not in stop_words_portuguese]\n",
    "    return ' '.join(filtered_words)\n",
    "\n",
    "portuguese['text'] = portuguese['text'].apply(remove_stopwords_portuguese)\n",
    "\n",
    "\n",
    "# Function to remove stop words for spanish\n",
    "def remove_stopwords_spanish(text):\n",
    "    \n",
    "    words = word_tokenize(text)\n",
    "    filtered_words = [word for word in words if word.lower() not in stop_words_spanish]\n",
    "    return ' '.join(filtered_words)\n",
    "\n",
    "spanish['text'] = spanish['text'].apply(remove_stopwords_spanish)\n",
    "\n",
    "\n",
    "\n",
    "#data  = pd.concat([english, chinese, french, italian, portuguese, spanish]\n",
    "\n",
    "#print(data.head())\n",
    "#print(\"Num rows:\", len(data))\n"
   ]
  },
  {
   "cell_type": "code",
   "execution_count": 8,
   "id": "85bab49d",
   "metadata": {},
   "outputs": [],
   "source": [
    "def model_individual_lang_val(data, lang):\n",
    "    #Feature extraction using TF-IDF\n",
    "    tfidf_vectorizer = TfidfVectorizer()\n",
    "    X = tfidf_vectorizer.fit_transform(data['text'])\n",
    "    y = data['label']\n",
    "    \n",
    "    #Tran and validation split\n",
    "    X_train, X_test, y_train, y_test = train_test_split(X, y, test_size=0.2, random_state=42)\n",
    "    \n",
    "    #Model prediction and evaluation\n",
    "    def models(mod, X_tr, y_tr, X_ts, y_ts, lang, name):\n",
    "        model = mod\n",
    "        model.fit(X_tr, y_tr)\n",
    "        y_pred = model.predict(X_ts)\n",
    "\n",
    "        pearson_r, _ = pearsonr(y_pred, y_ts)\n",
    "        print(\"Pearson's r for\", model, \"for\", lang, \"is: \" , pearson_r)\n",
    "\n",
    "        def calculate_pearson(mod, X_ts, y_ts):\n",
    "            y_pred_1 = mod.predict(X_ts)\n",
    "            pearson, _ = pearsonr(y_pred_1, y_ts)\n",
    "            return pearson\n",
    "\n",
    "        pearson_cv = cross_val_score(model, X_ts, y_ts, scoring=calculate_pearson, cv=5)\n",
    "        print(\"Pearson's r for\", model, \"for\", lang, \"after cross validation is: \" , pearson_cv)\n",
    "\n",
    "        mse = mean_squared_error(y_pred, y_ts)\n",
    "        print(\"Mean Square Error for\", model, \"for\", lang, \"is: \" , mse)\n",
    "\n",
    "        mse_cv = -cross_val_score(model, X_ts, y_ts, scoring='neg_mean_squared_error', cv=5)\n",
    "        print(\"Mean Square Error for\", model, \"for\", lang, \"after cross validation is: \" , mse_cv)\n",
    "        \n",
    "        return pearson_r, pearson_cv, mse, mse_cv \n",
    "    \n",
    "    print(\"************************************\")\n",
    "    lr_name = \"lr\"\n",
    "    lr = models(linear_model.LinearRegression(), X_train, y_train, X_test, y_test, lang, lr_name)\n",
    "    print(\"************************************\")\n",
    "    svr_name = \"svr\"\n",
    "    svr = models(svm.SVR(), X_train, y_train, X_test, y_test, lang, svr_name)\n",
    "    print(\"************************************\")\n",
    "    dt_name = \"dtr\"\n",
    "    dtr = models(tree.DecisionTreeRegressor(), X_train, y_train, X_test, y_test, lang, dt_name)\n",
    "    print(\"************************************\")\n",
    "    ridge_name = \"ridge\"\n",
    "    ridge = models(linear_model.Ridge(alpha=0.9), X_train, y_train, X_test, y_test, lang, ridge_name)\n",
    "    print(\"************************************\")\n",
    "    rf_name = \"rfr\"\n",
    "    rf = models(RandomForestRegressor(random_state=42), X_train, y_train, X_test, y_test, lang, rf_name)\n",
    "    print(\"************************************\")\n",
    "    return X_train, y_train"
   ]
  },
  {
   "cell_type": "code",
   "execution_count": 9,
   "id": "e52ae765",
   "metadata": {},
   "outputs": [
    {
     "name": "stdout",
     "output_type": "stream",
     "text": [
      "************************************\n",
      "Pearson's r for LinearRegression() for English is:  0.31830267826863123\n",
      "Pearson's r for LinearRegression() for English after cross validation is:  [0.18092105 0.34184677 0.42595256 0.40732081 0.31323752]\n",
      "Mean Square Error for LinearRegression() for English is:  0.8339001045753336\n",
      "Mean Square Error for LinearRegression() for English after cross validation is:  [0.5694965  0.47897352 0.94463562 0.63556505 0.98700244]\n",
      "************************************\n",
      "Pearson's r for SVR() for English is:  0.44111953205317617\n",
      "Pearson's r for SVR() for English after cross validation is:  [0.13541934 0.2727585  0.37509373 0.32495094 0.34086805]\n",
      "Mean Square Error for SVR() for English is:  0.623565553403764\n",
      "Mean Square Error for SVR() for English after cross validation is:  [0.51591024 0.49637213 0.9414749  0.68264689 0.97404817]\n",
      "************************************\n",
      "Pearson's r for DecisionTreeRegressor() for English is:  0.20530009316889375\n",
      "Pearson's r for DecisionTreeRegressor() for English after cross validation is:  [0.07003113 0.25967023 0.1151383  0.40586878 0.19814471]\n",
      "Mean Square Error for DecisionTreeRegressor() for English is:  1.0735796645702307\n",
      "Mean Square Error for DecisionTreeRegressor() for English after cross validation is:  [1.14831163 0.99194444 1.34452691 1.2074515  1.77537037]\n",
      "************************************\n",
      "Pearson's r for Ridge(alpha=0.9) for English is:  0.4590101825451517\n",
      "Pearson's r for Ridge(alpha=0.9) for English after cross validation is:  [0.24283269 0.30240249 0.41324876 0.39142507 0.36170196]\n",
      "Mean Square Error for Ridge(alpha=0.9) for English is:  0.5965414264661978\n",
      "Mean Square Error for Ridge(alpha=0.9) for English after cross validation is:  [0.50063384 0.51374064 0.84564777 0.63947191 0.87683178]\n",
      "************************************\n",
      "Pearson's r for RandomForestRegressor(random_state=42) for English is:  0.4008150529048184\n",
      "Pearson's r for RandomForestRegressor(random_state=42) for English after cross validation is:  [0.14263265 0.31778178 0.32026401 0.43811735 0.27199327]\n",
      "Mean Square Error for RandomForestRegressor(random_state=42) for English is:  0.669011714590464\n",
      "Mean Square Error for RandomForestRegressor(random_state=42) for English after cross validation is:  [0.66783707 0.5255232  1.1176568  0.6782374  1.16434256]\n",
      "************************************\n"
     ]
    }
   ],
   "source": [
    "lang = \"English\"\n",
    "eng = model_individual_lang_val(english, lang)"
   ]
  },
  {
   "cell_type": "code",
   "execution_count": 10,
   "id": "72d6a344",
   "metadata": {},
   "outputs": [
    {
     "name": "stdout",
     "output_type": "stream",
     "text": [
      "************************************\n",
      "Pearson's r for LinearRegression() for Chinese is:  0.2510941366964319\n",
      "Pearson's r for LinearRegression() for Chinese after cross validation is:  [ 0.12150072 -0.0069595   0.04223008  0.1585723   0.20201589]\n",
      "Mean Square Error for LinearRegression() for Chinese is:  0.9346324370899847\n",
      "Mean Square Error for LinearRegression() for Chinese after cross validation is:  [1.07564231 0.98464629 0.95709696 1.09273041 0.85099368]\n",
      "************************************\n",
      "Pearson's r for SVR() for Chinese is:  0.2035664901694953\n",
      "Pearson's r for SVR() for Chinese after cross validation is:  [ 0.13302349 -0.01332093  0.02265517  0.11240559  0.17797249]\n",
      "Mean Square Error for SVR() for Chinese is:  0.9757658514238731\n",
      "Mean Square Error for SVR() for Chinese after cross validation is:  [1.13245724 0.97906443 0.93664484 1.13796588 0.84310687]\n",
      "************************************\n",
      "Pearson's r for DecisionTreeRegressor() for Chinese is:  0.051758950307932226\n",
      "Pearson's r for DecisionTreeRegressor() for Chinese after cross validation is:  [-0.0402215   0.02224693  0.14912334 -0.26864043 -0.12846484]\n",
      "Mean Square Error for DecisionTreeRegressor() for Chinese is:  1.419271701388889\n",
      "Mean Square Error for DecisionTreeRegressor() for Chinese after cross validation is:  [1.67643663 2.02146701 1.20916667 2.31048177 1.23741753]\n",
      "************************************\n",
      "Pearson's r for Ridge(alpha=0.9) for Chinese is:  0.25228821781301886\n",
      "Pearson's r for Ridge(alpha=0.9) for Chinese after cross validation is:  [ 0.11703553 -0.01936764  0.0266022   0.17868248  0.18752454]\n",
      "Mean Square Error for Ridge(alpha=0.9) for Chinese is:  0.944557713679447\n",
      "Mean Square Error for Ridge(alpha=0.9) for Chinese after cross validation is:  [1.0753782  0.97766263 0.95387098 1.0954372  0.85700097]\n",
      "************************************\n",
      "Pearson's r for RandomForestRegressor(random_state=42) for Chinese is:  0.09272580514452096\n",
      "Pearson's r for RandomForestRegressor(random_state=42) for Chinese after cross validation is:  [-0.20962973  0.06345465  0.32771848 -0.27414595 -0.02149969]\n",
      "Mean Square Error for RandomForestRegressor(random_state=42) for Chinese is:  1.1739691562273813\n",
      "Mean Square Error for RandomForestRegressor(random_state=42) for Chinese after cross validation is:  [1.4795504  1.1641965  0.92225713 1.80800681 0.96692197]\n",
      "************************************\n"
     ]
    }
   ],
   "source": [
    "lang = \"Chinese\"\n",
    "chi = model_individual_lang_val(chinese, lang)"
   ]
  },
  {
   "cell_type": "code",
   "execution_count": 11,
   "id": "98035225",
   "metadata": {},
   "outputs": [
    {
     "name": "stdout",
     "output_type": "stream",
     "text": [
      "************************************\n",
      "Pearson's r for LinearRegression() for Portuguese is:  0.25489238252788204\n",
      "Pearson's r for LinearRegression() for Portuguese after cross validation is:  [0.18167572 0.19225798 0.33475427 0.25844449 0.10351257]\n",
      "Mean Square Error for LinearRegression() for Portuguese is:  1.102185544054913\n",
      "Mean Square Error for LinearRegression() for Portuguese after cross validation is:  [0.92962491 0.78375825 0.68401158 0.5711345  0.88770608]\n",
      "************************************\n",
      "Pearson's r for SVR() for Portuguese is:  0.3032123118091421\n",
      "Pearson's r for SVR() for Portuguese after cross validation is:  [0.14030692 0.31430183 0.2869971  0.22968061 0.16244982]\n",
      "Mean Square Error for SVR() for Portuguese is:  0.6890085112068417\n",
      "Mean Square Error for SVR() for Portuguese after cross validation is:  [0.97013251 0.66959677 0.7064321  0.48721252 0.84524543]\n",
      "************************************\n",
      "Pearson's r for DecisionTreeRegressor() for Portuguese is:  0.12698269754027428\n",
      "Pearson's r for DecisionTreeRegressor() for Portuguese after cross validation is:  [0.10227611 0.03176002 0.15168289 0.32945325 0.12543361]\n",
      "Mean Square Error for DecisionTreeRegressor() for Portuguese is:  1.3078492390046297\n",
      "Mean Square Error for DecisionTreeRegressor() for Portuguese after cross validation is:  [1.73467448 1.23495117 1.11427517 0.64472222 1.20640191]\n",
      "************************************\n",
      "Pearson's r for Ridge(alpha=0.9) for Portuguese is:  0.32351885664978497\n",
      "Pearson's r for Ridge(alpha=0.9) for Portuguese after cross validation is:  [0.23111806 0.27370043 0.33713081 0.26776208 0.13825312]\n",
      "Mean Square Error for Ridge(alpha=0.9) for Portuguese is:  0.6839591506708234\n",
      "Mean Square Error for Ridge(alpha=0.9) for Portuguese after cross validation is:  [0.90079617 0.70525196 0.66872681 0.5155775  0.83642462]\n",
      "************************************\n",
      "Pearson's r for RandomForestRegressor(random_state=42) for Portuguese is:  0.2765781503462478\n",
      "Pearson's r for RandomForestRegressor(random_state=42) for Portuguese after cross validation is:  [0.21816626 0.20176526 0.24719585 0.24744642 0.05670428]\n",
      "Mean Square Error for RandomForestRegressor(random_state=42) for Portuguese is:  0.7355951418381073\n",
      "Mean Square Error for RandomForestRegressor(random_state=42) for Portuguese after cross validation is:  [1.1816021  0.74590072 0.86106032 0.50018974 1.04448754]\n",
      "************************************\n"
     ]
    }
   ],
   "source": [
    "lang = \"Portuguese\"\n",
    "port = model_individual_lang_val(portuguese, lang)"
   ]
  },
  {
   "cell_type": "code",
   "execution_count": 12,
   "id": "dbc4a4f1",
   "metadata": {},
   "outputs": [
    {
     "name": "stdout",
     "output_type": "stream",
     "text": [
      "************************************\n",
      "Pearson's r for LinearRegression() for Italian is:  0.34355991680034015\n",
      "Pearson's r for LinearRegression() for Italian after cross validation is:  [0.23965139 0.3153995  0.34128439 0.27570292 0.39322921]\n",
      "Mean Square Error for LinearRegression() for Italian is:  0.7525090875317504\n",
      "Mean Square Error for LinearRegression() for Italian after cross validation is:  [0.69657537 0.48542724 0.72632814 0.52335093 0.58349093]\n",
      "************************************\n",
      "Pearson's r for SVR() for Italian is:  0.4165523912086395\n",
      "Pearson's r for SVR() for Italian after cross validation is:  [0.28607371 0.24970033 0.2731261  0.25571108 0.29443102]\n",
      "Mean Square Error for SVR() for Italian is:  0.5578236798811332\n",
      "Mean Square Error for SVR() for Italian after cross validation is:  [0.72258728 0.48685638 0.79528053 0.51624534 0.62196408]\n",
      "************************************\n",
      "Pearson's r for DecisionTreeRegressor() for Italian is:  0.2639022727749299\n",
      "Pearson's r for DecisionTreeRegressor() for Italian after cross validation is:  [ 0.18859366  0.05939071  0.18168521 -0.17154904  0.49012893]\n",
      "Mean Square Error for DecisionTreeRegressor() for Italian is:  1.0180096221498371\n",
      "Mean Square Error for DecisionTreeRegressor() for Italian after cross validation is:  [1.42455645 0.98228635 1.36596337 1.28849423 0.88971625]\n",
      "************************************\n",
      "Pearson's r for Ridge(alpha=0.9) for Italian is:  0.4055418730361557\n",
      "Pearson's r for Ridge(alpha=0.9) for Italian after cross validation is:  [0.2647267  0.31170008 0.34739957 0.29383966 0.32163271]\n",
      "Mean Square Error for Ridge(alpha=0.9) for Italian is:  0.554963392712308\n",
      "Mean Square Error for Ridge(alpha=0.9) for Italian after cross validation is:  [0.6916181  0.48008541 0.74368372 0.49413628 0.6160205 ]\n",
      "************************************\n",
      "Pearson's r for RandomForestRegressor(random_state=42) for Italian is:  0.37185985224297613\n",
      "Pearson's r for RandomForestRegressor(random_state=42) for Italian after cross validation is:  [0.14518248 0.32510175 0.13185455 0.16441724 0.41085731]\n",
      "Mean Square Error for RandomForestRegressor(random_state=42) for Italian is:  0.6458722023950306\n",
      "Mean Square Error for RandomForestRegressor(random_state=42) for Italian after cross validation is:  [1.08080371 0.61365209 1.10070974 0.71702541 0.62636915]\n",
      "************************************\n"
     ]
    }
   ],
   "source": [
    "lang = \"Italian\"\n",
    "ital = model_individual_lang_val(italian, lang)"
   ]
  },
  {
   "cell_type": "code",
   "execution_count": 13,
   "id": "e1c8bc96",
   "metadata": {},
   "outputs": [
    {
     "name": "stdout",
     "output_type": "stream",
     "text": [
      "************************************\n",
      "Pearson's r for LinearRegression() for French is:  0.1017600078693717\n",
      "Pearson's r for LinearRegression() for French after cross validation is:  [ 0.07282151  0.1112085   0.00592574  0.04800037 -0.16775975]\n",
      "Mean Square Error for LinearRegression() for French is:  1.090634520139914\n",
      "Mean Square Error for LinearRegression() for French after cross validation is:  [0.57332812 0.71282156 1.25477693 0.63084472 1.21683259]\n",
      "************************************\n",
      "Pearson's r for SVR() for French is:  0.2108834218718691\n",
      "Pearson's r for SVR() for French after cross validation is:  [ 0.11453364  0.1050511   0.0465609  -0.0493509  -0.01419225]\n",
      "Mean Square Error for SVR() for French is:  0.7409413740620678\n",
      "Mean Square Error for SVR() for French after cross validation is:  [0.49428408 0.6508171  1.16326827 0.59200123 1.05376641]\n",
      "************************************\n",
      "Pearson's r for DecisionTreeRegressor() for French is:  0.1576962276565338\n",
      "Pearson's r for DecisionTreeRegressor() for French after cross validation is:  [-0.0419721   0.24074972 -0.00708211  0.28402163 -0.04023982]\n",
      "Mean Square Error for DecisionTreeRegressor() for French is:  1.1713495545073374\n",
      "Mean Square Error for DecisionTreeRegressor() for French after cross validation is:  [1.08587674 0.9005218  1.54237703 0.89290123 1.61003417]\n",
      "************************************\n",
      "Pearson's r for Ridge(alpha=0.9) for French is:  0.2056830090847546\n",
      "Pearson's r for Ridge(alpha=0.9) for French after cross validation is:  [ 0.17637394  0.11783672  0.08899905  0.03414865 -0.12494435]\n",
      "Mean Square Error for Ridge(alpha=0.9) for French is:  0.7536605063932426\n",
      "Mean Square Error for Ridge(alpha=0.9) for French after cross validation is:  [0.52698111 0.63329878 1.13185887 0.59312845 1.08414014]\n",
      "************************************\n",
      "Pearson's r for RandomForestRegressor(random_state=42) for French is:  0.21373282479982172\n",
      "Pearson's r for RandomForestRegressor(random_state=42) for French after cross validation is:  [0.21469437 0.15748213 0.08541    0.1476806  0.11073001]\n",
      "Mean Square Error for RandomForestRegressor(random_state=42) for French is:  0.8206156072755726\n",
      "Mean Square Error for RandomForestRegressor(random_state=42) for French after cross validation is:  [0.51654897 0.74066016 1.2380263  0.68246131 1.26816547]\n",
      "************************************\n"
     ]
    }
   ],
   "source": [
    "lang = \"French\"\n",
    "fre = model_individual_lang_val(french, lang)"
   ]
  },
  {
   "cell_type": "code",
   "execution_count": 14,
   "id": "1ddb4c30",
   "metadata": {},
   "outputs": [
    {
     "name": "stdout",
     "output_type": "stream",
     "text": [
      "************************************\n",
      "Pearson's r for LinearRegression() for Spanish is:  0.34835817755115384\n",
      "Pearson's r for LinearRegression() for Spanish after cross validation is:  [ 0.00692504  0.0132769   0.31035647 -0.08479288  0.14223261]\n",
      "Mean Square Error for LinearRegression() for Spanish is:  1.0929244441359431\n",
      "Mean Square Error for LinearRegression() for Spanish after cross validation is:  [1.84200426 1.1078668  1.21662091 1.8859507  0.95033332]\n",
      "************************************\n",
      "Pearson's r for SVR() for Spanish is:  0.36678252471100736\n",
      "Pearson's r for SVR() for Spanish after cross validation is:  [0.06486513 0.12807621 0.44012432 0.22669573 0.18106641]\n",
      "Mean Square Error for SVR() for Spanish is:  0.8292925686890951\n",
      "Mean Square Error for SVR() for Spanish after cross validation is:  [1.0579001  0.81495152 0.78585363 0.96845733 0.97144647]\n",
      "************************************\n",
      "Pearson's r for DecisionTreeRegressor() for Spanish is:  0.22619586874997552\n",
      "Pearson's r for DecisionTreeRegressor() for Spanish after cross validation is:  [0.27193413 0.11378477 0.29230719 0.23012168 0.12532771]\n",
      "Mean Square Error for DecisionTreeRegressor() for Spanish is:  1.625692294714385\n",
      "Mean Square Error for DecisionTreeRegressor() for Spanish after cross validation is:  [1.82795139 1.48109809 1.57473524 1.53287326 1.96154762]\n",
      "************************************\n",
      "Pearson's r for Ridge(alpha=0.9) for Spanish is:  0.39495892728010734\n",
      "Pearson's r for Ridge(alpha=0.9) for Spanish after cross validation is:  [0.00926693 0.08455691 0.43274955 0.16627996 0.18030777]\n",
      "Mean Square Error for Ridge(alpha=0.9) for Spanish is:  0.783402028719052\n",
      "Mean Square Error for Ridge(alpha=0.9) for Spanish after cross validation is:  [1.07781889 0.86106369 0.75591136 0.9548721  0.90785957]\n",
      "************************************\n",
      "Pearson's r for RandomForestRegressor(random_state=42) for Spanish is:  0.36433891464616736\n",
      "Pearson's r for RandomForestRegressor(random_state=42) for Spanish after cross validation is:  [0.24710021 0.23776163 0.3422629  0.30877791 0.25044114]\n",
      "Mean Square Error for RandomForestRegressor(random_state=42) for Spanish is:  1.0595504344553874\n",
      "Mean Square Error for RandomForestRegressor(random_state=42) for Spanish after cross validation is:  [1.38293021 0.78876207 1.05031416 1.32563996 1.34171965]\n",
      "************************************\n"
     ]
    }
   ],
   "source": [
    "lang = \"Spanish\"\n",
    "spn = model_individual_lang_val(spanish, lang)"
   ]
  },
  {
   "cell_type": "markdown",
   "id": "a24a1470",
   "metadata": {},
   "source": [
    "## Evaluating the performance on the test data"
   ]
  },
  {
   "cell_type": "code",
   "execution_count": 15,
   "id": "a54e5e1a",
   "metadata": {},
   "outputs": [
    {
     "name": "stdout",
     "output_type": "stream",
     "text": [
      "                                                   text  label    language\n",
      "0                                             @user 아..    3.0      Korean\n",
      "1                                @user @user je rêve ??    2.2      French\n",
      "2                                          thank u, nxt    1.0     English\n",
      "3                            @user ma che cosa HO FATTO    2.6     Italian\n",
      "4      在教室打飞机，站累了，就搬凳子坐下，站着坐着都是你爸爸，听爸爸的话哦！骚货，爸爸爱你。 http    3.0     Chinese\n",
      "...                                                 ...    ...         ...\n",
      "3876  @user Não sei se ele vai terminar com a Kyra (...    3.0  Portuguese\n",
      "3877  @user Coitada...fraquinha....Povo precisa sabe...    1.4  Portuguese\n",
      "3878  @user أي عطر حبيبي .... مساعدة بشار البعثي عطر ؟؟    3.5      Arabic\n",
      "3879  TSC promoveert naar tweede klasse, ontgoocheli...    1.0       Dutch\n",
      "3880  @user if you pull up to emmas house bald tomor...    1.8     English\n",
      "\n",
      "[3881 rows x 3 columns]\n"
     ]
    }
   ],
   "source": [
    "test = pd.read_csv('test.csv')\n",
    "print(test)\n",
    "\n",
    "english_test = test[test['language'] == 'English'] \n",
    "chinese_test = test[test['language'] == 'Chinese'] \n",
    "french_test = test[test['language'] == 'French'] \n",
    "italian_test = test[test['language'] == 'Italian'] \n",
    "portuguese_test = test[test['language'] == 'Portuguese'] \n",
    "spanish_test = test[test['language'] == 'Spanish'] "
   ]
  },
  {
   "cell_type": "code",
   "execution_count": 16,
   "id": "16531d05",
   "metadata": {},
   "outputs": [],
   "source": [
    "def model_individual_lang_test(data, test, lang):\n",
    "    #Feature extraction using TF-IDF\n",
    "    tfidf_vectorizer = TfidfVectorizer()\n",
    "    X = tfidf_vectorizer.fit_transform(data['text'])\n",
    "    y = data['label']\n",
    "    \n",
    "    #Tran and validation split\n",
    "    X_train, X_val, y_train, y_val = train_test_split(X, y, test_size=0.2, random_state=42)\n",
    "    \n",
    "    X_test = tfidf_vectorizer.transform(test['text'])\n",
    "    y_test = test['label']\n",
    "    \n",
    "    #Model prediction and evaluation\n",
    "    def models(mod, X_tr, y_tr, X_ts, y_ts, lang, name):\n",
    "        model = mod\n",
    "        model.fit(X_tr, y_tr)\n",
    "        y_pred = model.predict(X_ts)\n",
    "\n",
    "        pearson_r, _ = pearsonr(y_pred, y_ts)\n",
    "        print(\"Pearson's r for\", model, \"for\", lang, \"on the test data is: \" , pearson_r)\n",
    "\n",
    "        def calculate_pearson(mod, X_ts, y_ts):\n",
    "            y_pred_1 = mod.predict(X_ts)\n",
    "            pearson, _ = pearsonr(y_pred_1, y_ts)\n",
    "            return pearson\n",
    "\n",
    "        pearson_cv = cross_val_score(model, X_ts, y_ts, scoring=calculate_pearson, cv=5)\n",
    "        print(\"Pearson's r for\", model, \"for\", lang, \"after cross validation on the test data is: \" , pearson_cv)\n",
    "\n",
    "        mse = mean_squared_error(y_pred, y_ts)\n",
    "        print(\"Mean Square Error for\", model, \"for\", lang, \"on the test data is: \" , mse)\n",
    "\n",
    "        mse_cv = -cross_val_score(model, X_ts, y_ts, scoring='neg_mean_squared_error', cv=5)\n",
    "        print(\"Mean Square Error for\", model, \"for\", lang, \"after cross validation on the test data is: \" , mse_cv)\n",
    "        \n",
    "        return pearson_r, pearson_cv, mse, mse_cv \n",
    "    \n",
    "    print(\"************************************\")\n",
    "    lr_name = \"lr\"\n",
    "    lr = models(linear_model.LinearRegression(), X_train, y_train, X_test, y_test, lang, lr_name)\n",
    "    print(\"************************************\")\n",
    "    svr_name = \"svr\"\n",
    "    svr = models(svm.SVR(), X_train, y_train, X_test, y_test, lang, svr_name)\n",
    "    print(\"************************************\")\n",
    "    dt_name = \"dtr\"\n",
    "    dtr = models(tree.DecisionTreeRegressor(), X_train, y_train, X_test, y_test, lang, dt_name)\n",
    "    print(\"************************************\")\n",
    "    ridge_name = \"ridge\"\n",
    "    ridge = models(linear_model.Ridge(alpha=0.9), X_train, y_train, X_test, y_test, lang, ridge_name)\n",
    "    print(\"************************************\")\n",
    "    rf_name = \"rfr\"\n",
    "    rf = models(RandomForestRegressor(random_state=42), X_train, y_train, X_test, y_test, lang, rf_name)\n",
    "    print(\"************************************\")\n",
    "    return X_train, y_train"
   ]
  },
  {
   "cell_type": "code",
   "execution_count": 17,
   "id": "7c4283c4",
   "metadata": {},
   "outputs": [
    {
     "name": "stdout",
     "output_type": "stream",
     "text": [
      "************************************\n",
      "Pearson's r for LinearRegression() for English on the test data is:  0.25309035017755827\n",
      "Pearson's r for LinearRegression() for English after cross validation on the test data is:  [0.4742203  0.12121385 0.08408597 0.16580177 0.31293931]\n",
      "Mean Square Error for LinearRegression() for English on the test data is:  1.0330091222487474\n",
      "Mean Square Error for LinearRegression() for English after cross validation on the test data is:  [0.80852235 1.4752371  1.19546297 1.03371639 0.81797059]\n",
      "************************************\n",
      "Pearson's r for SVR() for English on the test data is:  0.28776645570759224\n",
      "Pearson's r for SVR() for English after cross validation on the test data is:  [0.25114478 0.39891437 0.39659565 0.16489093 0.37716001]\n",
      "Mean Square Error for SVR() for English on the test data is:  0.7007426111371773\n",
      "Mean Square Error for SVR() for English after cross validation on the test data is:  [0.67322109 0.61902603 0.66581002 0.84608395 0.60028471]\n",
      "************************************\n",
      "Pearson's r for DecisionTreeRegressor() for English on the test data is:  0.2289424245860387\n",
      "Pearson's r for DecisionTreeRegressor() for English after cross validation on the test data is:  [0.1370578  0.14224723 0.0307547  0.13750606 0.08039992]\n",
      "Mean Square Error for DecisionTreeRegressor() for English on the test data is:  1.0364674523007857\n",
      "Mean Square Error for DecisionTreeRegressor() for English after cross validation on the test data is:  [1.03273958 1.09942115 1.02714937 1.19675556 1.08943477]\n",
      "************************************\n",
      "Pearson's r for Ridge(alpha=0.9) for English on the test data is:  0.3669402374431106\n",
      "Pearson's r for Ridge(alpha=0.9) for English after cross validation on the test data is:  [0.3164666  0.38313504 0.39593884 0.17525242 0.38390893]\n",
      "Mean Square Error for Ridge(alpha=0.9) for English on the test data is:  0.6509049502756598\n",
      "Mean Square Error for Ridge(alpha=0.9) for English after cross validation on the test data is:  [0.6457061  0.61713565 0.63513095 0.83917243 0.60574934]\n",
      "************************************\n",
      "Pearson's r for RandomForestRegressor(random_state=42) for English on the test data is:  0.3299453540515098\n",
      "Pearson's r for RandomForestRegressor(random_state=42) for English after cross validation on the test data is:  [0.27444667 0.26653502 0.23363174 0.19739462 0.26052137]\n",
      "Mean Square Error for RandomForestRegressor(random_state=42) for English on the test data is:  0.7614935038374998\n",
      "Mean Square Error for RandomForestRegressor(random_state=42) for English after cross validation on the test data is:  [0.76451396 0.75940375 0.82284717 0.92771482 0.71958178]\n",
      "************************************\n"
     ]
    }
   ],
   "source": [
    "lang = \"English\"\n",
    "eng_t = model_individual_lang_test(english, english_test, lang)"
   ]
  },
  {
   "cell_type": "code",
   "execution_count": 18,
   "id": "6e79c9a2",
   "metadata": {},
   "outputs": [
    {
     "name": "stdout",
     "output_type": "stream",
     "text": [
      "************************************\n",
      "Pearson's r for LinearRegression() for Chinese on the test data is:  0.28652702279276365\n",
      "Pearson's r for LinearRegression() for Chinese after cross validation on the test data is:  [0.14853214 0.20232069 0.22950454 0.23853127 0.2239131 ]\n",
      "Mean Square Error for LinearRegression() for Chinese on the test data is:  0.8777633942544508\n",
      "Mean Square Error for LinearRegression() for Chinese after cross validation on the test data is:  [0.77293608 0.95731121 0.61856902 0.76299226 0.69736849]\n",
      "************************************\n",
      "Pearson's r for SVR() for Chinese on the test data is:  0.2889306989023463\n",
      "Pearson's r for SVR() for Chinese after cross validation on the test data is:  [0.22146928 0.24729495 0.25761977 0.13231776 0.16765183]\n",
      "Mean Square Error for SVR() for Chinese on the test data is:  0.7591775029421168\n",
      "Mean Square Error for SVR() for Chinese after cross validation on the test data is:  [0.74684692 0.9713804  0.64523191 0.84364364 0.77430868]\n",
      "************************************\n",
      "Pearson's r for DecisionTreeRegressor() for Chinese on the test data is:  0.06365443309615232\n",
      "Pearson's r for DecisionTreeRegressor() for Chinese after cross validation on the test data is:  [-2.83915264e-02  1.76209354e-01  2.46113112e-01  1.21431122e-01\n",
      "  1.00071023e-04]\n",
      "Mean Square Error for DecisionTreeRegressor() for Chinese on the test data is:  1.1075026041666667\n",
      "Mean Square Error for DecisionTreeRegressor() for Chinese after cross validation on the test data is:  [1.0054896  0.93657654 0.70896267 0.8252664  0.83774372]\n",
      "************************************\n",
      "Pearson's r for Ridge(alpha=0.9) for Chinese on the test data is:  0.27428911989912974\n",
      "Pearson's r for Ridge(alpha=0.9) for Chinese after cross validation on the test data is:  [0.22461815 0.20707105 0.21510904 0.19856443 0.2022972 ]\n",
      "Mean Square Error for Ridge(alpha=0.9) for Chinese on the test data is:  0.8067503305366236\n",
      "Mean Square Error for Ridge(alpha=0.9) for Chinese after cross validation on the test data is:  [0.73104595 0.95408144 0.62780195 0.77552042 0.69985516]\n",
      "************************************\n",
      "Pearson's r for RandomForestRegressor(random_state=42) for Chinese on the test data is:  0.0588244972386858\n",
      "Pearson's r for RandomForestRegressor(random_state=42) for Chinese after cross validation on the test data is:  [0.10342999 0.20749415 0.25055986 0.1234488  0.13458347]\n",
      "Mean Square Error for RandomForestRegressor(random_state=42) for Chinese on the test data is:  1.1462994739883081\n",
      "Mean Square Error for RandomForestRegressor(random_state=42) for Chinese after cross validation on the test data is:  [0.78338683 0.95851006 0.62473297 0.81094048 0.7244291 ]\n",
      "************************************\n"
     ]
    }
   ],
   "source": [
    "lang = \"Chinese\"\n",
    "chi_t = model_individual_lang_test(chinese, chinese_test, lang)"
   ]
  },
  {
   "cell_type": "code",
   "execution_count": 19,
   "id": "86535999",
   "metadata": {},
   "outputs": [
    {
     "name": "stdout",
     "output_type": "stream",
     "text": [
      "************************************\n",
      "Pearson's r for LinearRegression() for Portuguese on the test data is:  0.23813392560254168\n",
      "Pearson's r for LinearRegression() for Portuguese after cross validation on the test data is:  [0.02426591 0.18149588 0.22378394 0.21709504 0.07211893]\n",
      "Mean Square Error for LinearRegression() for Portuguese on the test data is:  1.107483797461752\n",
      "Mean Square Error for LinearRegression() for Portuguese after cross validation on the test data is:  [0.9685023  1.47424816 0.87658197 0.94608451 1.1912768 ]\n",
      "************************************\n",
      "Pearson's r for SVR() for Portuguese on the test data is:  0.38478894201990227\n",
      "Pearson's r for SVR() for Portuguese after cross validation on the test data is:  [0.28728613 0.24711851 0.12795877 0.29224539 0.21117332]\n",
      "Mean Square Error for SVR() for Portuguese on the test data is:  0.6236314278906393\n",
      "Mean Square Error for SVR() for Portuguese after cross validation on the test data is:  [0.62984703 0.79866538 0.63861633 0.70085026 0.7308894 ]\n",
      "************************************\n",
      "Pearson's r for DecisionTreeRegressor() for Portuguese on the test data is:  0.28945256331909824\n",
      "Pearson's r for DecisionTreeRegressor() for Portuguese after cross validation on the test data is:  [0.02334779 0.03111079 0.26051319 0.23731457 0.24357313]\n",
      "Mean Square Error for DecisionTreeRegressor() for Portuguese on the test data is:  1.131611260973075\n",
      "Mean Square Error for DecisionTreeRegressor() for Portuguese after cross validation on the test data is:  [1.1982702  1.51407028 0.69880565 0.96327398 1.04521581]\n",
      "************************************\n",
      "Pearson's r for Ridge(alpha=0.9) for Portuguese on the test data is:  0.4030852871103977\n",
      "Pearson's r for Ridge(alpha=0.9) for Portuguese after cross validation on the test data is:  [0.2410296  0.27888887 0.16548681 0.34662162 0.23750803]\n",
      "Mean Square Error for Ridge(alpha=0.9) for Portuguese on the test data is:  0.6190599976879739\n",
      "Mean Square Error for Ridge(alpha=0.9) for Portuguese after cross validation on the test data is:  [0.61858878 0.78469018 0.64661377 0.67083762 0.71587456]\n",
      "************************************\n",
      "Pearson's r for RandomForestRegressor(random_state=42) for Portuguese on the test data is:  0.39034081261969\n",
      "Pearson's r for RandomForestRegressor(random_state=42) for Portuguese after cross validation on the test data is:  [0.17807638 0.17864694 0.17104914 0.37864691 0.30579343]\n",
      "Mean Square Error for RandomForestRegressor(random_state=42) for Portuguese on the test data is:  0.6365580391152685\n",
      "Mean Square Error for RandomForestRegressor(random_state=42) for Portuguese after cross validation on the test data is:  [0.74628401 0.92287563 0.69845959 0.66535813 0.76566036]\n",
      "************************************\n"
     ]
    }
   ],
   "source": [
    "lang = \"Portuguese\"\n",
    "port_t = model_individual_lang_test(portuguese, portuguese_test, lang)"
   ]
  },
  {
   "cell_type": "code",
   "execution_count": 20,
   "id": "f6bec874",
   "metadata": {},
   "outputs": [
    {
     "name": "stdout",
     "output_type": "stream",
     "text": [
      "************************************\n",
      "Pearson's r for LinearRegression() for Italian on the test data is:  0.30412377614431796\n",
      "Pearson's r for LinearRegression() for Italian after cross validation on the test data is:  [0.06923299 0.11681153 0.078917   0.18818495 0.38670197]\n",
      "Mean Square Error for LinearRegression() for Italian on the test data is:  0.8618201138323451\n",
      "Mean Square Error for LinearRegression() for Italian after cross validation on the test data is:  [1.30665447 1.10853863 1.1433608  1.08305633 1.15509178]\n",
      "************************************\n",
      "Pearson's r for SVR() for Italian on the test data is:  0.44645573269051664\n",
      "Pearson's r for SVR() for Italian after cross validation on the test data is:  [0.17386766 0.26826266 0.23851885 0.31785705 0.41199113]\n",
      "Mean Square Error for SVR() for Italian on the test data is:  0.5873257167432065\n",
      "Mean Square Error for SVR() for Italian after cross validation on the test data is:  [0.80255816 0.66594949 0.60243506 0.47789389 0.78068602]\n",
      "************************************\n",
      "Pearson's r for DecisionTreeRegressor() for Italian on the test data is:  0.2760483593940116\n",
      "Pearson's r for DecisionTreeRegressor() for Italian after cross validation on the test data is:  [ 0.26604957  0.09670853 -0.02021038  0.31199272  0.33645228]\n",
      "Mean Square Error for DecisionTreeRegressor() for Italian on the test data is:  1.0139814372106482\n",
      "Mean Square Error for DecisionTreeRegressor() for Italian after cross validation on the test data is:  [1.22645001 1.0607814  1.29000808 0.85286212 0.95628232]\n",
      "************************************\n",
      "Pearson's r for Ridge(alpha=0.9) for Italian on the test data is:  0.43034831262034856\n",
      "Pearson's r for Ridge(alpha=0.9) for Italian after cross validation on the test data is:  [0.19772645 0.31368283 0.2246884  0.28539016 0.48221347]\n",
      "Mean Square Error for Ridge(alpha=0.9) for Italian on the test data is:  0.5786451117123995\n",
      "Mean Square Error for Ridge(alpha=0.9) for Italian after cross validation on the test data is:  [0.79245333 0.6705377  0.61738778 0.48905607 0.66986471]\n",
      "************************************\n",
      "Pearson's r for RandomForestRegressor(random_state=42) for Italian on the test data is:  0.331393223442194\n",
      "Pearson's r for RandomForestRegressor(random_state=42) for Italian after cross validation on the test data is:  [0.20550675 0.13612145 0.14478895 0.34371498 0.47539906]\n",
      "Mean Square Error for RandomForestRegressor(random_state=42) for Italian on the test data is:  0.6955459970865031\n",
      "Mean Square Error for RandomForestRegressor(random_state=42) for Italian after cross validation on the test data is:  [0.87867172 0.75745129 0.72045878 0.58522583 0.86878073]\n",
      "************************************\n"
     ]
    }
   ],
   "source": [
    "lang = \"Italian\"\n",
    "ital_t = model_individual_lang_test(italian, italian_test, lang)"
   ]
  },
  {
   "cell_type": "code",
   "execution_count": 21,
   "id": "52e239f7",
   "metadata": {},
   "outputs": [
    {
     "name": "stdout",
     "output_type": "stream",
     "text": [
      "************************************\n",
      "Pearson's r for LinearRegression() for French on the test data is:  0.19022246523565967\n",
      "Pearson's r for LinearRegression() for French after cross validation on the test data is:  [ 0.24319306 -0.21881811  0.13391583  0.07662261  0.01811357]\n",
      "Mean Square Error for LinearRegression() for French on the test data is:  1.3421285921536226\n",
      "Mean Square Error for LinearRegression() for French after cross validation on the test data is:  [1.60803485 2.62716945 1.11600732 2.19291769 7.12966633]\n",
      "************************************\n",
      "Pearson's r for SVR() for French on the test data is:  0.29110964369148623\n",
      "Pearson's r for SVR() for French after cross validation on the test data is:  [0.22845109 0.30640966 0.231508   0.52559329 0.23333253]\n",
      "Mean Square Error for SVR() for French on the test data is:  0.7218117890971402\n",
      "Mean Square Error for SVR() for French after cross validation on the test data is:  [0.89156599 0.65304348 0.54994886 0.54370244 1.02341289]\n",
      "************************************\n",
      "Pearson's r for DecisionTreeRegressor() for French on the test data is:  0.21450428942315583\n",
      "Pearson's r for DecisionTreeRegressor() for French after cross validation on the test data is:  [0.08410265 0.22744162 0.36474534 0.49586647 0.2264097 ]\n",
      "Mean Square Error for DecisionTreeRegressor() for French on the test data is:  1.1709368956743\n",
      "Mean Square Error for DecisionTreeRegressor() for French after cross validation on the test data is:  [1.46254571 1.11886867 0.69098101 0.70624377 1.42388956]\n",
      "************************************\n",
      "Pearson's r for Ridge(alpha=0.9) for French on the test data is:  0.30557951516178095\n",
      "Pearson's r for Ridge(alpha=0.9) for French after cross validation on the test data is:  [0.28504216 0.24606412 0.222101   0.52339605 0.27118021]\n",
      "Mean Square Error for Ridge(alpha=0.9) for French on the test data is:  0.7260315423690373\n",
      "Mean Square Error for Ridge(alpha=0.9) for French after cross validation on the test data is:  [0.82886781 0.67293545 0.59434415 0.54306771 0.97163524]\n",
      "************************************\n",
      "Pearson's r for RandomForestRegressor(random_state=42) for French on the test data is:  0.2451171949882916\n",
      "Pearson's r for RandomForestRegressor(random_state=42) for French after cross validation on the test data is:  [0.18132543 0.28027162 0.27740061 0.63103411 0.28672804]\n",
      "Mean Square Error for RandomForestRegressor(random_state=42) for French on the test data is:  0.7985750939134459\n",
      "Mean Square Error for RandomForestRegressor(random_state=42) for French after cross validation on the test data is:  [1.01924399 0.74335781 0.56832514 0.4254261  1.08537479]\n",
      "************************************\n"
     ]
    }
   ],
   "source": [
    "lang = \"French\"\n",
    "fre_t = model_individual_lang_test(french, french_test, lang)"
   ]
  },
  {
   "cell_type": "code",
   "execution_count": 22,
   "id": "739bca59",
   "metadata": {},
   "outputs": [
    {
     "name": "stdout",
     "output_type": "stream",
     "text": [
      "************************************\n",
      "Pearson's r for LinearRegression() for Spanish on the test data is:  0.3383086965789861\n",
      "Pearson's r for LinearRegression() for Spanish after cross validation on the test data is:  [0.02172857 0.13733769 0.37450924 0.03909381 0.3194868 ]\n",
      "Mean Square Error for LinearRegression() for Spanish on the test data is:  1.0812683444031872\n",
      "Mean Square Error for LinearRegression() for Spanish after cross validation on the test data is:  [7.13887769 2.45772815 1.40587335 4.80069363 1.28225771]\n",
      "************************************\n",
      "Pearson's r for SVR() for Spanish on the test data is:  0.3640396384027338\n",
      "Pearson's r for SVR() for Spanish after cross validation on the test data is:  [0.43727201 0.530787   0.52435601 0.40767761 0.45815462]\n",
      "Mean Square Error for SVR() for Spanish on the test data is:  0.8364646227303587\n",
      "Mean Square Error for SVR() for Spanish after cross validation on the test data is:  [0.93487749 0.7282111  0.67246512 0.73388284 0.6288387 ]\n",
      "************************************\n",
      "Pearson's r for DecisionTreeRegressor() for Spanish on the test data is:  0.20895472465556694\n",
      "Pearson's r for DecisionTreeRegressor() for Spanish after cross validation on the test data is:  [0.22124825 0.39081367 0.35309479 0.15999761 0.25601499]\n",
      "Mean Square Error for DecisionTreeRegressor() for Spanish on the test data is:  2.3180742655249236\n",
      "Mean Square Error for DecisionTreeRegressor() for Spanish after cross validation on the test data is:  [1.81275361 1.18199306 1.32949479 1.31006675 1.41982419]\n",
      "************************************\n",
      "Pearson's r for Ridge(alpha=0.9) for Spanish on the test data is:  0.37834869623835216\n",
      "Pearson's r for Ridge(alpha=0.9) for Spanish after cross validation on the test data is:  [0.41092739 0.54474184 0.53175248 0.38800987 0.46372818]\n",
      "Mean Square Error for Ridge(alpha=0.9) for Spanish on the test data is:  0.8053732779666701\n",
      "Mean Square Error for Ridge(alpha=0.9) for Spanish after cross validation on the test data is:  [0.93991955 0.70916696 0.65821806 0.74270511 0.63286403]\n",
      "************************************\n",
      "Pearson's r for RandomForestRegressor(random_state=42) for Spanish on the test data is:  0.2412092769325191\n",
      "Pearson's r for RandomForestRegressor(random_state=42) for Spanish after cross validation on the test data is:  [0.42869468 0.56004742 0.38999954 0.43163982 0.39556591]\n",
      "Mean Square Error for RandomForestRegressor(random_state=42) for Spanish on the test data is:  1.1815725064859468\n",
      "Mean Square Error for RandomForestRegressor(random_state=42) for Spanish after cross validation on the test data is:  [1.00402084 0.70811131 0.84498947 0.79299796 0.74845179]\n",
      "************************************\n"
     ]
    }
   ],
   "source": [
    "lang = \"Spanish\"\n",
    "spn_t = model_individual_lang_test(spanish, spanish_test, lang)"
   ]
  }
 ],
 "metadata": {
  "kernelspec": {
   "display_name": "Python 3 (ipykernel)",
   "language": "python",
   "name": "python3"
  },
  "language_info": {
   "codemirror_mode": {
    "name": "ipython",
    "version": 3
   },
   "file_extension": ".py",
   "mimetype": "text/x-python",
   "name": "python",
   "nbconvert_exporter": "python",
   "pygments_lexer": "ipython3",
   "version": "3.9.12"
  }
 },
 "nbformat": 4,
 "nbformat_minor": 5
}
