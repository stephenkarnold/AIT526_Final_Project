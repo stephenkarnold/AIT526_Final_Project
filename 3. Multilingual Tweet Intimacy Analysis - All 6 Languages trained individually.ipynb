{
 "cells": [
  {
   "cell_type": "code",
   "execution_count": 10,
   "id": "661e6892",
   "metadata": {},
   "outputs": [],
   "source": [
    "import pandas as pd\n",
    "import numpy as np\n",
    "import nltk\n",
    "\n",
    "#Preprocessing\n",
    "from nltk.stem import WordNetLemmatizer\n",
    "from nltk.tokenize import word_tokenize\n",
    "from sklearn.model_selection import train_test_split\n",
    "from sklearn.feature_extraction.text import TfidfVectorizer\n",
    "\n",
    "#Models from sklearn\n",
    "from sklearn import linear_model\n",
    "from sklearn import svm\n",
    "from sklearn import tree\n",
    "from sklearn.ensemble import RandomForestRegressor\n",
    "\n",
    "#Evaluation metrics\n",
    "from sklearn.metrics import mean_squared_error\n",
    "from scipy.stats import pearsonr\n",
    "from sklearn.model_selection import cross_val_score"
   ]
  },
  {
   "cell_type": "markdown",
   "id": "7e3f6f2a",
   "metadata": {},
   "source": [
    "#### Data read-in"
   ]
  },
  {
   "cell_type": "code",
   "execution_count": 11,
   "id": "b439a25b",
   "metadata": {
    "scrolled": true
   },
   "outputs": [
    {
     "name": "stdout",
     "output_type": "stream",
     "text": [
      "                                                   text  label language\n",
      "0     wearing a fake engagement ring so guys won’t a...    1.8  English\n",
      "1                                  Bees vs. Wasps. http    1.0  English\n",
      "2                  Here is a nice equation: 0+0-0-0+0=0    1.0  English\n",
      "3                  @user @user Enjoy each new day!😊🇨🇦🐞🐭    1.6  English\n",
      "4     I can be having a perfectly good day then I th...    1.6  English\n",
      "...                                                 ...    ...      ...\n",
      "9486  若被確認為「國際關注公共衛生緊急事件」， 世衛會發布一系列包括確診、隔離和治療的詳細計畫， ...    1.0  Chinese\n",
      "9487                                @user 是嗎？ 可能我沒有注意到吧    2.0  Chinese\n",
      "9488                                 @user @user 你剃过毛毛吗    3.8  Chinese\n",
      "9489                                      @user 她没说是捐吧？    1.8  Chinese\n",
      "9490  通报来了 真的要消停一会了 视频不要私信要啦 就当2w粉的福利提前放出来吧 有风险勿模仿 感...    1.6  Chinese\n",
      "\n",
      "[9491 rows x 3 columns]\n"
     ]
    }
   ],
   "source": [
    "data_all = pd.read_csv('train.csv')\n",
    "print(data_all)"
   ]
  },
  {
   "cell_type": "markdown",
   "id": "abcb56e6",
   "metadata": {},
   "source": [
    "#### Filtering for english"
   ]
  },
  {
   "cell_type": "code",
   "execution_count": 12,
   "id": "ebff88a9",
   "metadata": {},
   "outputs": [
    {
     "data": {
      "text/html": [
       "<div>\n",
       "<style scoped>\n",
       "    .dataframe tbody tr th:only-of-type {\n",
       "        vertical-align: middle;\n",
       "    }\n",
       "\n",
       "    .dataframe tbody tr th {\n",
       "        vertical-align: top;\n",
       "    }\n",
       "\n",
       "    .dataframe thead th {\n",
       "        text-align: right;\n",
       "    }\n",
       "</style>\n",
       "<table border=\"1\" class=\"dataframe\">\n",
       "  <thead>\n",
       "    <tr style=\"text-align: right;\">\n",
       "      <th></th>\n",
       "      <th>text</th>\n",
       "      <th>label</th>\n",
       "      <th>language</th>\n",
       "    </tr>\n",
       "  </thead>\n",
       "  <tbody>\n",
       "    <tr>\n",
       "      <th>0</th>\n",
       "      <td>wearing a fake engagement ring so guys won’t a...</td>\n",
       "      <td>1.8</td>\n",
       "      <td>English</td>\n",
       "    </tr>\n",
       "    <tr>\n",
       "      <th>1</th>\n",
       "      <td>Bees vs. Wasps. http</td>\n",
       "      <td>1.0</td>\n",
       "      <td>English</td>\n",
       "    </tr>\n",
       "    <tr>\n",
       "      <th>2</th>\n",
       "      <td>Here is a nice equation: 0+0-0-0+0=0</td>\n",
       "      <td>1.0</td>\n",
       "      <td>English</td>\n",
       "    </tr>\n",
       "    <tr>\n",
       "      <th>3</th>\n",
       "      <td>@user @user Enjoy each new day!😊🇨🇦🐞🐭</td>\n",
       "      <td>1.6</td>\n",
       "      <td>English</td>\n",
       "    </tr>\n",
       "    <tr>\n",
       "      <th>4</th>\n",
       "      <td>I can be having a perfectly good day then I th...</td>\n",
       "      <td>1.6</td>\n",
       "      <td>English</td>\n",
       "    </tr>\n",
       "    <tr>\n",
       "      <th>...</th>\n",
       "      <td>...</td>\n",
       "      <td>...</td>\n",
       "      <td>...</td>\n",
       "    </tr>\n",
       "    <tr>\n",
       "      <th>1582</th>\n",
       "      <td>PSA!!! Even though I’m busy 99.99999% of the t...</td>\n",
       "      <td>2.2</td>\n",
       "      <td>English</td>\n",
       "    </tr>\n",
       "    <tr>\n",
       "      <th>1583</th>\n",
       "      <td>@user @OtterBox Isnt that the only reason we b...</td>\n",
       "      <td>1.6</td>\n",
       "      <td>English</td>\n",
       "    </tr>\n",
       "    <tr>\n",
       "      <th>1584</th>\n",
       "      <td>#NetajiSubhasChandraBose The ART The ARTIST http</td>\n",
       "      <td>1.0</td>\n",
       "      <td>English</td>\n",
       "    </tr>\n",
       "    <tr>\n",
       "      <th>1585</th>\n",
       "      <td>Nothing compares with being with someone who a...</td>\n",
       "      <td>3.6</td>\n",
       "      <td>English</td>\n",
       "    </tr>\n",
       "    <tr>\n",
       "      <th>1586</th>\n",
       "      <td>@user shit.. I didn't follow you either.... *c...</td>\n",
       "      <td>2.6</td>\n",
       "      <td>English</td>\n",
       "    </tr>\n",
       "  </tbody>\n",
       "</table>\n",
       "<p>1587 rows × 3 columns</p>\n",
       "</div>"
      ],
      "text/plain": [
       "                                                   text  label language\n",
       "0     wearing a fake engagement ring so guys won’t a...    1.8  English\n",
       "1                                  Bees vs. Wasps. http    1.0  English\n",
       "2                  Here is a nice equation: 0+0-0-0+0=0    1.0  English\n",
       "3                  @user @user Enjoy each new day!😊🇨🇦🐞🐭    1.6  English\n",
       "4     I can be having a perfectly good day then I th...    1.6  English\n",
       "...                                                 ...    ...      ...\n",
       "1582  PSA!!! Even though I’m busy 99.99999% of the t...    2.2  English\n",
       "1583  @user @OtterBox Isnt that the only reason we b...    1.6  English\n",
       "1584   #NetajiSubhasChandraBose The ART The ARTIST http    1.0  English\n",
       "1585  Nothing compares with being with someone who a...    3.6  English\n",
       "1586  @user shit.. I didn't follow you either.... *c...    2.6  English\n",
       "\n",
       "[1587 rows x 3 columns]"
      ]
     },
     "execution_count": 12,
     "metadata": {},
     "output_type": "execute_result"
    }
   ],
   "source": [
    "data = data_all[data_all['language'] == 'English'] \n",
    "data"
   ]
  },
  {
   "cell_type": "markdown",
   "id": "602b496a",
   "metadata": {},
   "source": [
    "#### Cleaning the data"
   ]
  },
  {
   "cell_type": "code",
   "execution_count": 13,
   "id": "530a02c9",
   "metadata": {},
   "outputs": [],
   "source": [
    "import re\n",
    "\n",
    "def clean(text):\n",
    "    \n",
    "    text = re.sub('@user', '', text)\n",
    "    text = re.sub('http', '', text)\n",
    "    text = re.sub('@[\\w]+', '', text)\n",
    "    text = text.strip()\n",
    "    return text\n",
    "\n",
    "#data['text'] = data['text'].apply(clean)\n",
    "\n",
    "#data.head()"
   ]
  },
  {
   "cell_type": "markdown",
   "id": "f4ee3b60",
   "metadata": {},
   "source": [
    "#### Tokenizing and Lemmatization"
   ]
  },
  {
   "cell_type": "code",
   "execution_count": 14,
   "id": "7bf0e5a4",
   "metadata": {},
   "outputs": [
    {
     "name": "stderr",
     "output_type": "stream",
     "text": [
      "[nltk_data] Downloading package punkt to\n",
      "[nltk_data]     /Users/stephenarnoldkappala/nltk_data...\n",
      "[nltk_data]   Package punkt is already up-to-date!\n",
      "[nltk_data] Downloading package wordnet to\n",
      "[nltk_data]     /Users/stephenarnoldkappala/nltk_data...\n",
      "[nltk_data]   Package wordnet is already up-to-date!\n",
      "/var/folders/3m/pm_n_clj2636ntdmmv6lgqq40000gn/T/ipykernel_65592/1965705353.py:11: SettingWithCopyWarning: \n",
      "A value is trying to be set on a copy of a slice from a DataFrame.\n",
      "Try using .loc[row_indexer,col_indexer] = value instead\n",
      "\n",
      "See the caveats in the documentation: https://pandas.pydata.org/pandas-docs/stable/user_guide/indexing.html#returning-a-view-versus-a-copy\n",
      "  data['text'] = data['text'].apply(tokenize_and_lemmatize)\n"
     ]
    }
   ],
   "source": [
    "nltk.download('punkt')\n",
    "nltk.download('wordnet')\n",
    "\n",
    "\n",
    "def tokenize_and_lemmatize(text):\n",
    "    words = word_tokenize(text)\n",
    "    lemmatizer = WordNetLemmatizer()\n",
    "    lemmatized_words = [lemmatizer.lemmatize(word) for word in words]\n",
    "    return ' '.join(lemmatized_words)\n",
    "\n",
    "data['text'] = data['text'].apply(tokenize_and_lemmatize)"
   ]
  },
  {
   "cell_type": "markdown",
   "id": "a3686e65",
   "metadata": {},
   "source": [
    "#### Removing Stopwords"
   ]
  },
  {
   "cell_type": "code",
   "execution_count": 15,
   "id": "5c4f383d",
   "metadata": {},
   "outputs": [
    {
     "name": "stderr",
     "output_type": "stream",
     "text": [
      "[nltk_data] Downloading package stopwords to\n",
      "[nltk_data]     /Users/stephenarnoldkappala/nltk_data...\n",
      "[nltk_data]   Package stopwords is already up-to-date!\n"
     ]
    }
   ],
   "source": [
    "from nltk.corpus import stopwords\n",
    "\n",
    "# Download NLTK stop words\n",
    "nltk.download('stopwords')\n",
    "\n",
    "stop_words_english = set(stopwords.words('english'))\n",
    "stop_words_chinese = set(stopwords.words('chinese'))\n",
    "stop_words_french = set(stopwords.words('french'))\n",
    "stop_words_italian = set(stopwords.words('italian'))\n",
    "stop_words_portuguese = set(stopwords.words('portuguese'))\n",
    "stop_words_spanish = set(stopwords.words('spanish'))\n",
    "\n",
    "\n",
    "# Function to remove stop words for english\n",
    "def remove_stopwords_english(text):\n",
    "    \n",
    "    words = word_tokenize(text)\n",
    "    filtered_words = [word for word in words if word.lower() not in stop_words_english]\n",
    "    return ' '.join(filtered_words)\n",
    "\n",
    "#english['text'] = english['text'].apply(remove_stopwords_english)\n",
    "\n",
    "\n",
    "# Function to remove stop words for english\n",
    "def remove_stopwords_chinese(text):\n",
    "    \n",
    "    words = word_tokenize(text)\n",
    "    filtered_words = [word for word in words if word.lower() not in stop_words_chinese]\n",
    "    return ' '.join(filtered_words)\n",
    "\n",
    "#chinese['text'] = chinese['text'].apply(remove_stopwords_chinese)\n",
    "\n",
    "\n",
    "# Function to remove stop words for english\n",
    "def remove_stopwords_french(text):\n",
    "    \n",
    "    words = word_tokenize(text)\n",
    "    filtered_words = [word for word in words if word.lower() not in stop_words_french]\n",
    "    return ' '.join(filtered_words)\n",
    "\n",
    "#french['text'] = french['text'].apply(remove_stopwords_french)\n",
    "\n",
    "\n",
    "# Function to remove stop words for english\n",
    "def remove_stopwords_italian(text):\n",
    "    \n",
    "    words = word_tokenize(text)\n",
    "    filtered_words = [word for word in words if word.lower() not in stop_words_italian]\n",
    "    return ' '.join(filtered_words)\n",
    "\n",
    "#italian['text'] = italian['text'].apply(remove_stopwords_italian)\n",
    "\n",
    "\n",
    "# Function to remove stop words for english\n",
    "def remove_stopwords_portuguese(text):\n",
    "    \n",
    "    words = word_tokenize(text)\n",
    "    filtered_words = [word for word in words if word.lower() not in stop_words_portuguese]\n",
    "    return ' '.join(filtered_words)\n",
    "\n",
    "#portuguese['text'] = portuguese['text'].apply(remove_stopwords_portuguese)\n",
    "\n",
    "\n",
    "# Function to remove stop words for english\n",
    "def remove_stopwords_spanish(text):\n",
    "    \n",
    "    words = word_tokenize(text)\n",
    "    filtered_words = [word for word in words if word.lower() not in stop_words_spanish]\n",
    "    return ' '.join(filtered_words)\n",
    "\n",
    "#spanish['text'] = spanish['text'].apply(remove_stopwords_spanish)\n",
    "\n",
    "\n",
    "\n",
    "#data  = pd.concat([english, chinese, french, italian, portuguese, spanish]\n",
    "\n",
    "#print(data.head())\n",
    "#print(\"Num rows:\", len(data))\n"
   ]
  },
  {
   "cell_type": "markdown",
   "id": "58bea7c7",
   "metadata": {},
   "source": [
    "#### Creating datasets by language"
   ]
  },
  {
   "cell_type": "code",
   "execution_count": 16,
   "id": "236b0e89",
   "metadata": {},
   "outputs": [],
   "source": [
    "english = data_all[data_all['language'] == 'English'] \n",
    "chinese = data_all[data_all['language'] == 'Chinese'] \n",
    "french = data_all[data_all['language'] == 'French'] \n",
    "italian = data_all[data_all['language'] == 'Italian'] \n",
    "portuguese = data_all[data_all['language'] == 'Portuguese'] \n",
    "spanish = data_all[data_all['language'] == 'Spanish'] "
   ]
  },
  {
   "cell_type": "code",
   "execution_count": 17,
   "id": "85bab49d",
   "metadata": {},
   "outputs": [],
   "source": [
    "def model_individual_lang(data, lang):\n",
    "    #Feature extraction using TF-IDF\n",
    "    tfidf_vectorizer = TfidfVectorizer()\n",
    "    X = tfidf_vectorizer.fit_transform(data['text'])\n",
    "    y = data['label']\n",
    "    \n",
    "    train_data, test_data = train_test_split(data, test_size=0.2, random_state=42)\n",
    "    \n",
    "    #Tran and test split\n",
    "    X_train, X_test, y_train, y_test = train_test_split(X, y, test_size=0.2, random_state=42)\n",
    "    \n",
    "    #Model prediction and evaluation\n",
    "    def models(mod, X_tr, y_tr, X_ts, y_ts, lang, test_data, name):\n",
    "        model = mod\n",
    "        model.fit(X_tr, y_tr)\n",
    "        y_pred = model.predict(X_ts)\n",
    "\n",
    "        pearson_r, _ = pearsonr(y_pred, y_ts)\n",
    "        print(\"Pearson's r for\", model, \"for\", lang, \"is: \" , pearson_r)\n",
    "\n",
    "        def calculate_pearson(mod, X_ts, y_ts):\n",
    "            y_pred_1 = mod.predict(X_ts)\n",
    "            pearson, _ = pearsonr(y_pred_1, y_ts)\n",
    "            return pearson\n",
    "\n",
    "        pearson_cv = cross_val_score(model, X_ts, y_ts, scoring=calculate_pearson, cv=5)\n",
    "        print(\"Pearson's r for\", model, \"for\", lang, \"after cross validation is: \" , pearson_cv)\n",
    "\n",
    "        mse = mean_squared_error(y_pred, y_ts)\n",
    "        print(\"Mean Square Error for\", model, \"for\", lang, \"is: \" , mse)\n",
    "\n",
    "        mse_cv = -cross_val_score(model, X_ts, y_ts, scoring='neg_mean_squared_error', cv=5)\n",
    "        print(\"Mean Square Error for\", model, \"for\", lang, \"after cross validation is: \" , mse_cv)\n",
    "        \n",
    "\n",
    "        test_check = pd.DataFrame({\n",
    "        'text': test_data['text'],\n",
    "        'predicted_label': y_pred,\n",
    "        'true_label': y_ts\n",
    "        })\n",
    "        \n",
    "        #pearson_r_check, _ = pearsonr(y_pred, test_data['label'])\n",
    "        #print(\"CHK Pearson's r for\", model, \"for\", lang, \"is: \" , pearson_r_check)\n",
    "              \n",
    "        test_check.to_csv(f\"{lang}_{name}.csv\", index=False)\n",
    "        \n",
    "        return pearson_r, pearson_cv, mse, mse_cv, test_check\n",
    "    \n",
    "    print(\"************************************\")\n",
    "    lr_name = \"lr\"\n",
    "    lr = models(linear_model.LinearRegression(), X_train, y_train, X_test, y_test, lang, test_data, lr_name)\n",
    "    print(\"************************************\")\n",
    "    svr_name = \"svr\"\n",
    "    svr = models(svm.SVR(), X_train, y_train, X_test, y_test, lang, test_data, svr_name)\n",
    "    print(\"************************************\")\n",
    "    dt_name = \"dtr\"\n",
    "    dtr = models(tree.DecisionTreeRegressor(), X_train, y_train, X_test, y_test, lang, test_data, dt_name)\n",
    "    print(\"************************************\")\n",
    "    ridge_name = \"ridge\"\n",
    "    ridge = models(linear_model.Ridge(alpha=0.9), X_train, y_train, X_test, y_test, lang, test_data, ridge_name)\n",
    "    print(\"************************************\")\n",
    "    rf_name = \"rfr\"\n",
    "    rf = models(RandomForestRegressor(random_state=42), X_train, y_train, X_test, y_test, lang, test_data, rf_name)\n",
    "    print(\"************************************\")\n",
    "    return "
   ]
  },
  {
   "cell_type": "code",
   "execution_count": 18,
   "id": "e52ae765",
   "metadata": {},
   "outputs": [
    {
     "name": "stdout",
     "output_type": "stream",
     "text": [
      "************************************\n",
      "Pearson's r for LinearRegression() for English is:  0.492521445823381\n",
      "Pearson's r for LinearRegression() for English after cross validation is:  [0.41779694 0.3079486  0.54645998 0.48231143 0.39029975]\n",
      "Mean Square Error for LinearRegression() for English is:  0.6401628628071875\n",
      "Mean Square Error for LinearRegression() for English after cross validation is:  [0.45029995 0.54914027 0.68958142 0.6265813  0.85607043]\n",
      "************************************\n",
      "Pearson's r for SVR() for English is:  0.5563765786268907\n",
      "Pearson's r for SVR() for English after cross validation is:  [0.34154519 0.34355225 0.51552865 0.44263444 0.44932464]\n",
      "Mean Square Error for SVR() for English is:  0.5502416941512925\n",
      "Mean Square Error for SVR() for English after cross validation is:  [0.4793757  0.48553798 0.87152745 0.6366511  0.94259292]\n",
      "************************************\n",
      "Pearson's r for DecisionTreeRegressor() for English is:  0.3238295507779151\n",
      "Pearson's r for DecisionTreeRegressor() for English after cross validation is:  [0.11279167 0.21294395 0.31671973 0.34158551 0.40541217]\n",
      "Mean Square Error for DecisionTreeRegressor() for English is:  1.0029655835080364\n",
      "Mean Square Error for DecisionTreeRegressor() for English after cross validation is:  [0.89272569 0.95361979 1.27382378 1.04702822 1.23847002]\n",
      "************************************\n",
      "Pearson's r for Ridge(alpha=0.9) for English is:  0.5528350180904064\n",
      "Pearson's r for Ridge(alpha=0.9) for English after cross validation is:  [0.43917781 0.35005542 0.55235845 0.49010101 0.4554105 ]\n",
      "Mean Square Error for Ridge(alpha=0.9) for English is:  0.5257348081680436\n",
      "Mean Square Error for Ridge(alpha=0.9) for English after cross validation is:  [0.43357882 0.50586278 0.74753049 0.58364354 0.84590781]\n",
      "************************************\n",
      "Pearson's r for RandomForestRegressor(random_state=42) for English is:  0.47116224983861205\n",
      "Pearson's r for RandomForestRegressor(random_state=42) for English after cross validation is:  [0.34265664 0.34600779 0.44704871 0.47790983 0.55207685]\n",
      "Mean Square Error for RandomForestRegressor(random_state=42) for English is:  0.6082701532527515\n",
      "Mean Square Error for RandomForestRegressor(random_state=42) for English after cross validation is:  [0.51552756 0.49522364 0.86062688 0.57875521 0.90999303]\n",
      "************************************\n"
     ]
    }
   ],
   "source": [
    "lang = \"English\"\n",
    "eng = model_individual_lang(english, lang)"
   ]
  },
  {
   "cell_type": "code",
   "execution_count": 19,
   "id": "72d6a344",
   "metadata": {},
   "outputs": [
    {
     "name": "stdout",
     "output_type": "stream",
     "text": [
      "************************************\n",
      "Pearson's r for LinearRegression() for Chinese is:  0.25313002583460475\n",
      "Pearson's r for LinearRegression() for Chinese after cross validation is:  [ 0.12150478 -0.0069605   0.0422401   0.15857598  0.20201597]\n",
      "Mean Square Error for LinearRegression() for Chinese is:  0.9346599982534893\n",
      "Mean Square Error for LinearRegression() for Chinese after cross validation is:  [1.07564159 0.98464685 0.95709369 1.09272924 0.85099374]\n",
      "************************************\n",
      "Pearson's r for SVR() for Chinese is:  0.20338649590386815\n",
      "Pearson's r for SVR() for Chinese after cross validation is:  [ 0.13302846 -0.0133223   0.02266632  0.11240775  0.17797016]\n",
      "Mean Square Error for SVR() for Chinese is:  0.9761070063380892\n",
      "Mean Square Error for SVR() for Chinese after cross validation is:  [1.13245661 0.97906459 0.93664346 1.1379655  0.84310666]\n",
      "************************************\n",
      "Pearson's r for DecisionTreeRegressor() for Chinese is:  0.03024984742685427\n",
      "Pearson's r for DecisionTreeRegressor() for Chinese after cross validation is:  [-0.02268771  0.03412588  0.1862351  -0.23087559 -0.13164098]\n",
      "Mean Square Error for DecisionTreeRegressor() for Chinese is:  1.4874253472222223\n",
      "Mean Square Error for DecisionTreeRegressor() for Chinese after cross validation is:  [1.67249132 2.09756076 1.18619792 2.38329427 1.26429253]\n",
      "************************************\n",
      "Pearson's r for Ridge(alpha=0.9) for Chinese is:  0.2541889203736577\n",
      "Pearson's r for Ridge(alpha=0.9) for Chinese after cross validation is:  [ 0.11703957 -0.0193686   0.02661312  0.17868813  0.18752398]\n",
      "Mean Square Error for Ridge(alpha=0.9) for Chinese is:  0.9448867757342823\n",
      "Mean Square Error for Ridge(alpha=0.9) for Chinese after cross validation is:  [1.0753776  0.97766313 0.95386829 1.09543603 0.85700095]\n",
      "************************************\n",
      "Pearson's r for RandomForestRegressor(random_state=42) for Chinese is:  0.1050774823551728\n",
      "Pearson's r for RandomForestRegressor(random_state=42) for Chinese after cross validation is:  [-0.20695165  0.06448213  0.33634147 -0.26901557 -0.02393835]\n",
      "Mean Square Error for RandomForestRegressor(random_state=42) for Chinese is:  1.168690930253631\n",
      "Mean Square Error for RandomForestRegressor(random_state=42) for Chinese after cross validation is:  [1.47475076 1.16301218 0.91875182 1.81190766 0.96840718]\n",
      "************************************\n"
     ]
    }
   ],
   "source": [
    "lang = \"Chinese\"\n",
    "eng = model_individual_lang(chinese, lang)"
   ]
  },
  {
   "cell_type": "code",
   "execution_count": 20,
   "id": "98035225",
   "metadata": {},
   "outputs": [
    {
     "name": "stdout",
     "output_type": "stream",
     "text": [
      "************************************\n",
      "Pearson's r for LinearRegression() for Portuguese is:  0.2574391702209266\n",
      "Pearson's r for LinearRegression() for Portuguese after cross validation is:  [0.27828481 0.29344697 0.55404532 0.27791585 0.23588118]\n",
      "Mean Square Error for LinearRegression() for Portuguese is:  1.0938951699440238\n",
      "Mean Square Error for LinearRegression() for Portuguese after cross validation is:  [0.91482291 0.70909955 0.52320288 0.57702426 0.82931557]\n",
      "************************************\n",
      "Pearson's r for SVR() for Portuguese is:  0.3909447065866024\n",
      "Pearson's r for SVR() for Portuguese after cross validation is:  [0.17267038 0.36623538 0.42018758 0.21035825 0.26102788]\n",
      "Mean Square Error for SVR() for Portuguese is:  0.6450516054891232\n",
      "Mean Square Error for SVR() for Portuguese after cross validation is:  [0.95375023 0.64946422 0.64410994 0.49213557 0.81429614]\n",
      "************************************\n",
      "Pearson's r for DecisionTreeRegressor() for Portuguese is:  0.12055126293498095\n",
      "Pearson's r for DecisionTreeRegressor() for Portuguese after cross validation is:  [0.15826187 0.17047673 0.36990487 0.31362644 0.27255909]\n",
      "Mean Square Error for DecisionTreeRegressor() for Portuguese is:  1.2645459143518518\n",
      "Mean Square Error for DecisionTreeRegressor() for Portuguese after cross validation is:  [1.36164062 1.2882411  0.93521701 0.91921441 1.03697917]\n",
      "************************************\n",
      "Pearson's r for Ridge(alpha=0.9) for Portuguese is:  0.41150240690343004\n",
      "Pearson's r for Ridge(alpha=0.9) for Portuguese after cross validation is:  [0.28558367 0.36579712 0.48542613 0.2528831  0.24339939]\n",
      "Mean Square Error for Ridge(alpha=0.9) for Portuguese is:  0.6340539253617195\n",
      "Mean Square Error for Ridge(alpha=0.9) for Portuguese after cross validation is:  [0.87085055 0.66323756 0.59384734 0.51772845 0.80151174]\n",
      "************************************\n",
      "Pearson's r for RandomForestRegressor(random_state=42) for Portuguese is:  0.3025261440536875\n",
      "Pearson's r for RandomForestRegressor(random_state=42) for Portuguese after cross validation is:  [0.22525582 0.35081594 0.51986663 0.21353777 0.31055235]\n",
      "Mean Square Error for RandomForestRegressor(random_state=42) for Portuguese is:  0.7111029415374975\n",
      "Mean Square Error for RandomForestRegressor(random_state=42) for Portuguese after cross validation is:  [1.06561284 0.6639632  0.60203497 0.57650275 0.83680051]\n",
      "************************************\n"
     ]
    }
   ],
   "source": [
    "lang = \"Portuguese\"\n",
    "eng = model_individual_lang(portuguese, lang)"
   ]
  },
  {
   "cell_type": "code",
   "execution_count": 21,
   "id": "dbc4a4f1",
   "metadata": {},
   "outputs": [
    {
     "name": "stdout",
     "output_type": "stream",
     "text": [
      "************************************\n",
      "Pearson's r for LinearRegression() for Italian is:  0.035989570817294314\n",
      "Pearson's r for LinearRegression() for Italian after cross validation is:  [0.21773757 0.25483045 0.35323925 0.3416285  0.28623938]\n",
      "Mean Square Error for LinearRegression() for Italian is:  1.493188900108611\n",
      "Mean Square Error for LinearRegression() for Italian after cross validation is:  [0.72690887 0.50511671 0.71971491 0.50422389 0.65501644]\n",
      "************************************\n",
      "Pearson's r for SVR() for Italian is:  0.4606001249135356\n",
      "Pearson's r for SVR() for Italian after cross validation is:  [0.36104497 0.3295737  0.29377917 0.39798646 0.15155831]\n",
      "Mean Square Error for SVR() for Italian is:  0.5363352108506688\n",
      "Mean Square Error for SVR() for Italian after cross validation is:  [0.70169688 0.47139628 0.7948909  0.4848378  0.65407806]\n",
      "************************************\n",
      "Pearson's r for DecisionTreeRegressor() for Italian is:  0.23748026235304\n",
      "Pearson's r for DecisionTreeRegressor() for Italian after cross validation is:  [ 0.25737782  0.11086835  0.34308269  0.06749659 -0.01302413]\n",
      "Mean Square Error for DecisionTreeRegressor() for Italian is:  1.0309558853098486\n",
      "Mean Square Error for DecisionTreeRegressor() for Italian after cross validation is:  [1.00320789 0.85955645 1.13045082 1.1023318  1.09425774]\n",
      "************************************\n",
      "Pearson's r for Ridge(alpha=0.9) for Italian is:  0.45475680325311824\n",
      "Pearson's r for Ridge(alpha=0.9) for Italian after cross validation is:  [0.38067323 0.36557627 0.37302305 0.35893714 0.17794659]\n",
      "Mean Square Error for Ridge(alpha=0.9) for Italian is:  0.5279364463138614\n",
      "Mean Square Error for Ridge(alpha=0.9) for Italian after cross validation is:  [0.65242791 0.45880042 0.72558233 0.4724421  0.66466895]\n",
      "************************************\n",
      "Pearson's r for RandomForestRegressor(random_state=42) for Italian is:  0.44725797094562103\n",
      "Pearson's r for RandomForestRegressor(random_state=42) for Italian after cross validation is:  [0.33583789 0.32064108 0.35589675 0.26809881 0.22687459]\n",
      "Mean Square Error for RandomForestRegressor(random_state=42) for Italian is:  0.5594135789535446\n",
      "Mean Square Error for RandomForestRegressor(random_state=42) for Italian after cross validation is:  [0.78044197 0.51453462 0.8570861  0.58963849 0.68955413]\n",
      "************************************\n"
     ]
    }
   ],
   "source": [
    "lang = \"Italian\"\n",
    "eng = model_individual_lang(italian, lang)"
   ]
  },
  {
   "cell_type": "code",
   "execution_count": 22,
   "id": "e1c8bc96",
   "metadata": {},
   "outputs": [
    {
     "name": "stdout",
     "output_type": "stream",
     "text": [
      "************************************\n",
      "Pearson's r for LinearRegression() for French is:  0.18496168969174293\n",
      "Pearson's r for LinearRegression() for French after cross validation is:  [0.2596664  0.24858583 0.17600121 0.19208147 0.04952975]\n",
      "Mean Square Error for LinearRegression() for French is:  1.410117686724246\n",
      "Mean Square Error for LinearRegression() for French after cross validation is:  [0.47582993 0.61659843 1.13525483 0.67900346 1.14736804]\n",
      "************************************\n",
      "Pearson's r for SVR() for French is:  0.36951759473622703\n",
      "Pearson's r for SVR() for French after cross validation is:  [0.21239581 0.25265143 0.19190492 0.1192372  0.19354987]\n",
      "Mean Square Error for SVR() for French is:  0.6730454835691447\n",
      "Mean Square Error for SVR() for French after cross validation is:  [0.47625507 0.62056495 1.13061986 0.5729875  1.0109962 ]\n",
      "************************************\n",
      "Pearson's r for DecisionTreeRegressor() for French is:  0.25879322884890216\n",
      "Pearson's r for DecisionTreeRegressor() for French after cross validation is:  [0.3487896  0.16585347 0.04294538 0.21263862 0.12734886]\n",
      "Mean Square Error for DecisionTreeRegressor() for French is:  1.091772361984626\n",
      "Mean Square Error for DecisionTreeRegressor() for French after cross validation is:  [0.65039931 1.12048418 1.40384693 1.06542218 1.60756173]\n",
      "************************************\n",
      "Pearson's r for Ridge(alpha=0.9) for French is:  0.3593230571616679\n",
      "Pearson's r for Ridge(alpha=0.9) for French after cross validation is:  [0.31565773 0.24024585 0.24833358 0.16076074 0.14526979]\n",
      "Mean Square Error for Ridge(alpha=0.9) for French is:  0.6726739762467011\n",
      "Mean Square Error for Ridge(alpha=0.9) for French after cross validation is:  [0.49046813 0.59867616 1.06886106 0.58840642 0.98431923]\n",
      "************************************\n",
      "Pearson's r for RandomForestRegressor(random_state=42) for French is:  0.33520236725267816\n",
      "Pearson's r for RandomForestRegressor(random_state=42) for French after cross validation is:  [0.37662962 0.23552128 0.31573247 0.23642897 0.27609874]\n",
      "Mean Square Error for RandomForestRegressor(random_state=42) for French is:  0.7398943424883745\n",
      "Mean Square Error for RandomForestRegressor(random_state=42) for French after cross validation is:  [0.41441628 0.66776551 1.06502078 0.71678731 1.06733569]\n",
      "************************************\n"
     ]
    }
   ],
   "source": [
    "lang = \"French\"\n",
    "eng = model_individual_lang(french, lang)"
   ]
  },
  {
   "cell_type": "code",
   "execution_count": 23,
   "id": "1ddb4c30",
   "metadata": {},
   "outputs": [
    {
     "name": "stdout",
     "output_type": "stream",
     "text": [
      "************************************\n",
      "Pearson's r for LinearRegression() for Spanish is:  0.46006004202523126\n",
      "Pearson's r for LinearRegression() for Spanish after cross validation is:  [0.26742633 0.05368369 0.38257655 0.45705684 0.30477561]\n",
      "Mean Square Error for LinearRegression() for Spanish is:  0.7538114424237127\n",
      "Mean Square Error for LinearRegression() for Spanish after cross validation is:  [0.98876824 0.94243982 0.73228016 0.77025104 0.90642608]\n",
      "************************************\n",
      "Pearson's r for SVR() for Spanish is:  0.5286745452961321\n",
      "Pearson's r for SVR() for Spanish after cross validation is:  [0.37517392 0.29438328 0.51118631 0.42869045 0.33397245]\n",
      "Mean Square Error for SVR() for Spanish is:  0.7124151838242583\n",
      "Mean Square Error for SVR() for Spanish after cross validation is:  [0.97462503 0.75959338 0.73787658 0.87174828 0.91230856]\n",
      "************************************\n",
      "Pearson's r for DecisionTreeRegressor() for Spanish is:  0.23847083818080714\n",
      "Pearson's r for DecisionTreeRegressor() for Spanish after cross validation is:  [0.00624967 0.07414553 0.24203422 0.29479129 0.10199209]\n",
      "Mean Square Error for DecisionTreeRegressor() for Spanish is:  1.4309535005224658\n",
      "Mean Square Error for DecisionTreeRegressor() for Spanish after cross validation is:  [1.72397569 1.60246962 1.14231771 1.4512934  1.80777337]\n",
      "************************************\n",
      "Pearson's r for Ridge(alpha=0.9) for Spanish is:  0.5344633825811899\n",
      "Pearson's r for Ridge(alpha=0.9) for Spanish after cross validation is:  [0.35688455 0.19765396 0.49532911 0.44251235 0.34468165]\n",
      "Mean Square Error for Ridge(alpha=0.9) for Spanish is:  0.6679876349885835\n",
      "Mean Square Error for Ridge(alpha=0.9) for Spanish after cross validation is:  [0.9383656  0.80102651 0.68766533 0.80025292 0.84355854]\n",
      "************************************\n",
      "Pearson's r for RandomForestRegressor(random_state=42) for Spanish is:  0.4590345913069389\n",
      "Pearson's r for RandomForestRegressor(random_state=42) for Spanish after cross validation is:  [0.40579638 0.27918266 0.54228865 0.31940775 0.24629617]\n",
      "Mean Square Error for RandomForestRegressor(random_state=42) for Spanish is:  0.7945332791730196\n",
      "Mean Square Error for RandomForestRegressor(random_state=42) for Spanish after cross validation is:  [0.91719759 0.78721024 0.61058049 1.00309504 1.12907466]\n",
      "************************************\n"
     ]
    }
   ],
   "source": [
    "lang = \"Spanish\"\n",
    "eng = model_individual_lang(spanish, lang)"
   ]
  },
  {
   "cell_type": "code",
   "execution_count": null,
   "id": "a54e5e1a",
   "metadata": {},
   "outputs": [],
   "source": []
  }
 ],
 "metadata": {
  "kernelspec": {
   "display_name": "Python 3 (ipykernel)",
   "language": "python",
   "name": "python3"
  },
  "language_info": {
   "codemirror_mode": {
    "name": "ipython",
    "version": 3
   },
   "file_extension": ".py",
   "mimetype": "text/x-python",
   "name": "python",
   "nbconvert_exporter": "python",
   "pygments_lexer": "ipython3",
   "version": "3.9.12"
  }
 },
 "nbformat": 4,
 "nbformat_minor": 5
}
